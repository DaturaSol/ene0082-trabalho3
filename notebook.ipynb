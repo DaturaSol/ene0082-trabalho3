{
 "cells": [
  {
   "cell_type": "markdown",
   "id": "3b9472af",
   "metadata": {},
   "source": [
    "# Trabalho Computacional 3. Rede Convolucional e Transfer Learning\n",
    "\n",
    "> **Nome**: *Gabriel Martins Silveira de Oliveira*.  \n",
    "> **Matrícula**: 190042656."
   ]
  },
  {
   "cell_type": "markdown",
   "id": "c4c564f9",
   "metadata": {},
   "source": [
    "# Verificação de Hardware\n",
    "\n",
    "Antes de iniciarmos o trabalho, é fundamental definir alguns parâmetros para garantir a execução do notebook com o mínimo de interrupções. Inicialmente, considerou-se o uso da TPU (Tensor Processing Unit) do Google para otimizar os resultados. Contudo, essa opção não se mostrou prática devido à alta demanda e baixa disponibilidade desses recursos, dificultando o acesso.\n",
    "\n",
    "Portanto, optaremos por utilizar apenas CUDA. Não é recomendado executar os experimentos utilizando somente a CPU. Caso esteja utilizando o Google Colab, recomenda-se fortemente o uso da GPU disponibilizada pela plataforma."
   ]
  },
  {
   "cell_type": "code",
   "execution_count": 1,
   "id": "7436e6a8",
   "metadata": {},
   "outputs": [
    {
     "name": "stdout",
     "output_type": "stream",
     "text": [
      "Making use of CUDA\n",
      "With 4 Workers\n"
     ]
    }
   ],
   "source": [
    "import os\n",
    "import sys\n",
    "import torch\n",
    "\n",
    "IN_COLAB = \"google.colab\" in sys.modules\n",
    "HAS_CUDA = torch.cuda.is_available()\n",
    "NUM_CORES = os.cpu_count()\n",
    "num_workers = NUM_CORES // 2 if NUM_CORES else 0\n",
    "device_type = \"gpu\" if HAS_CUDA else \"cpu\"\n",
    "\n",
    "colab_message = \"Working in Google Colab\\n\" if IN_COLAB else \"\"\n",
    "cuda_message = \"Making use of CUDA\\n\" if HAS_CUDA else \"No CUDA device found\"\n",
    "workers_message = f\"With {num_workers} Workers\"\n",
    "\n",
    "print(colab_message + cuda_message + workers_message)"
   ]
  },
  {
   "cell_type": "markdown",
   "id": "f9d055ff",
   "metadata": {},
   "source": [
    "# Importações Essenciais\n",
    "\n",
    "Recomenda-se a execução deste código no Google Colab. No entanto, caso deseje executá-lo localmente, o arquivo `pyproject.toml` foi disponibilizado para a correta instalação das dependências."
   ]
  },
  {
   "cell_type": "code",
   "execution_count": 2,
   "id": "609fb74a",
   "metadata": {},
   "outputs": [],
   "source": [
    "# Google colab dependencies\n",
    "if IN_COLAB:\n",
    "    import subprocess\n",
    "    try:\n",
    "        subprocess.run(\n",
    "                [\"pip\", \"install\", \"pytorch-lightning\", \"torchmetrics\"], check=True\n",
    "            )\n",
    "        print(\"Successfully installed packages.\")\n",
    "    except subprocess.CalledProcessError as e:\n",
    "        print(f\"Error installing packages: {e}\")\n",
    "        \n",
    "# PyTorch\n",
    "import torch\n",
    "from torch import nn, optim, Generator\n",
    "from torch.utils.data import random_split, Subset, DataLoader\n",
    "\n",
    "# TorchVision\n",
    "from torchvision import datasets\n",
    "import torchvision.transforms as transforms\n",
    "from torchvision.models import (\n",
    "    vgg16, \n",
    "    VGG16_Weights, \n",
    "    inception_v3, \n",
    "    Inception_V3_Weights,\n",
    ")\n",
    "\n",
    "# TorchMetrics\n",
    "from torchmetrics.functional import accuracy\n",
    "\n",
    "# TorchLightning\n",
    "import pytorch_lightning as pl\n",
    "from pytorch_lightning import Trainer\n",
    "from pytorch_lightning.callbacks import EarlyStopping\n",
    "\n",
    "# Numpy\n",
    "import numpy as np\n",
    "\n",
    "# Matplotlib\n",
    "import matplotlib.pyplot as plt\n",
    "from matplotlib.axes import Axes\n",
    "\n",
    "# Utils\n",
    "from pathlib import Path\n",
    "from argparse import Namespace\n",
    "from typing import List, Tuple, cast, Literal"
   ]
  },
  {
   "cell_type": "markdown",
   "id": "a83702d1",
   "metadata": {},
   "source": [
    "# Dataset\n",
    "\n",
    "Neste trabalho, utilizaremos a base de dados [CIFAR-10](https://www.cs.toronto.edu/~kriz/cifar.html).\n",
    "\n",
    "Ela é composta por 60.000 imagens coloridas de 32x32 pixels (3 canais de cor).\n",
    "\n",
    "Inicialmente, as imagens serão mantidas em suas dimensões originais. Esta abordagem permitirá avaliar diferentes configurações preliminares e identificar as mais promissoras no contexto do modelo mais simples. Posteriormente, ao explorar arquiteturas mais complexas, como o VGG16, será realizado o redimensionamento das imagens. Para essa etapa, será aplicado um dos métodos de pré-processamento que apresentou o melhor desempenho com o modelo base. Embora essa estratégia não garanta, necessariamente, um impacto positivo idêntico no novo modelo, espera-se que haja uma correlação positiva, influenciando o processo de ajuste dos pesos da rede."
   ]
  },
  {
   "cell_type": "code",
   "execution_count": 3,
   "id": "81bbb391",
   "metadata": {},
   "outputs": [],
   "source": [
    "class CIFAR10Dataset:\n",
    "    \"\"\"I did some chances to this class to make it easier to work with\"\"\"\n",
    "    train: Subset[datasets.CIFAR10]\n",
    "    val: Subset[datasets.CIFAR10]\n",
    "    test: datasets.CIFAR10\n",
    "    classes: List[str]\n",
    "    resize: Tuple[int, int]\n",
    "\n",
    "    def __init__(\n",
    "        self,\n",
    "        root: Path = Path(\"./.data/\"),\n",
    "        resize: Tuple[int, int] = (32, 32),\n",
    "    ):\n",
    "        trans = transforms.Compose(\n",
    "            [\n",
    "                transforms.Resize(resize),\n",
    "                transforms.ToTensor(),\n",
    "                transforms.Normalize(\n",
    "                    (0.5, 0.5, 0.5),\n",
    "                    (0.5, 0.5, 0.5),\n",
    "                ),\n",
    "            ]\n",
    "        )\n",
    "\n",
    "        self.full_train = datasets.CIFAR10(\n",
    "            root=root, train=True, transform=trans, download=True\n",
    "        )\n",
    "\n",
    "        self.classes = self.full_train.classes\n",
    "\n",
    "        train_set_size = int(len(self.full_train) * 0.8)\n",
    "        valid_set_size = len(self.full_train) - train_set_size\n",
    "\n",
    "        seed = Generator().manual_seed(42)\n",
    "        self.train, self.val = random_split(\n",
    "            self.full_train, [train_set_size, valid_set_size], generator=seed\n",
    "        )\n",
    "\n",
    "        self.test = datasets.CIFAR10(\n",
    "            root=root, train=False, transform=trans, download=True\n",
    "        )\n",
    "\n",
    "    def get_dataloader(\n",
    "        self,\n",
    "        dataset_type: Literal[\"train\", \"test\", \"val\"],\n",
    "        batch_size: int = 64,\n",
    "        num_workers: int = 2,\n",
    "        shuffle: bool = False,\n",
    "        persistent_workers: bool = True,\n",
    "        pin_memory=True,\n",
    "    ) -> DataLoader:\n",
    "        \n",
    "        dataset: Subset[datasets.CIFAR10] = getattr(self, dataset_type)\n",
    "        if dataset_type == \"train\":\n",
    "            shuffle = True\n",
    "        return DataLoader(\n",
    "            dataset,\n",
    "            batch_size=batch_size,\n",
    "            shuffle=shuffle,\n",
    "            num_workers=num_workers,\n",
    "            persistent_workers=persistent_workers,\n",
    "            pin_memory=pin_memory,\n",
    "        )"
   ]
  },
  {
   "cell_type": "code",
   "execution_count": 4,
   "id": "7a8a7874",
   "metadata": {},
   "outputs": [],
   "source": [
    "root = Path(\"./.data/\")\n",
    "root.mkdir(parents=True, exist_ok=True)"
   ]
  },
  {
   "cell_type": "code",
   "execution_count": 5,
   "id": "abdd01d6",
   "metadata": {},
   "outputs": [],
   "source": [
    "dataset = CIFAR10Dataset(root=root)\n",
    "train_dataloader = dataset.get_dataloader(dataset_type=\"train\", num_workers=num_workers)\n",
    "val_dataloader = dataset.get_dataloader(dataset_type=\"val\", num_workers=num_workers)\n",
    "test_dataloader = dataset.get_dataloader(dataset_type=\"val\", num_workers=num_workers)"
   ]
  },
  {
   "cell_type": "code",
   "execution_count": 6,
   "id": "1ecd3bce",
   "metadata": {},
   "outputs": [
    {
     "name": "stdout",
     "output_type": "stream",
     "text": [
      "Number of training examples: 40_000\n",
      "Number of validation examples: 10_000\n",
      "Number of test examples: 10_000\n",
      "\n",
      "Number of Classes: 10\n",
      "Classes:\n",
      "  airplane\n",
      "  automobile\n",
      "  bird\n",
      "  cat\n",
      "  deer\n",
      "  dog\n",
      "  frog\n",
      "  horse\n",
      "  ship\n",
      "  truck\n"
     ]
    }
   ],
   "source": [
    "print(\n",
    "    f\"Number of training examples: {len(dataset.train):_}\\n\"\n",
    "    f\"Number of validation examples: {len(dataset.val):_}\\n\"\n",
    "    f\"Number of test examples: {len(dataset.test):_}\\n\\n\"\n",
    "    f\"Number of Classes: {len(dataset.classes):_}\\n\"\n",
    "    \"Classes:\",\n",
    "    *dataset.classes,\n",
    "    sep=\"\\n  \",\n",
    ")"
   ]
  },
  {
   "cell_type": "markdown",
   "id": "7e031138",
   "metadata": {},
   "source": [
    "Observa-se que o dataset é composto por 10 classes distintas. A divisão dos dados compreende 40.000 exemplos para treinamento, 10.000 para validação e 10.000 para teste. Abaixo, são apresentados alguns exemplos das imagens contidas neste conjunto."
   ]
  },
  {
   "cell_type": "code",
   "execution_count": 7,
   "id": "71b8280d",
   "metadata": {},
   "outputs": [],
   "source": [
    "def imshow_batch(\n",
    "    images_batch: torch.Tensor,\n",
    "    labels_batch: torch.Tensor,\n",
    "    class_names: List[str],\n",
    "    mean: float = 0.5,\n",
    "    std: float = 0.5,\n",
    "    num_images_to_show: int = 9,\n",
    "):\n",
    "    images_batch = images_batch.cpu()\n",
    "\n",
    "    axes_grid_array: np.ndarray\n",
    "\n",
    "    _, axes_grid_array = plt.subplots(\n",
    "        3, 3, figsize=(10, 10)\n",
    "    )\n",
    "\n",
    "    axes_flat_array = axes_grid_array.flatten()\n",
    "\n",
    "    for i in range(min(num_images_to_show, len(images_batch))):\n",
    "        ax = axes_flat_array[i]\n",
    "        assert isinstance(ax, Axes), \"Each element should be an Axes object\" # Pylance...\n",
    "\n",
    "        # We need to unnormalize the image ):\n",
    "        img = images_batch[i]\n",
    "        img = img * std + mean\n",
    "        img = img.permute(1, 2, 0)\n",
    "        img = torch.clamp(img, 0, 1)\n",
    "        \n",
    "        ax.imshow(img.numpy())\n",
    "        label_index: int = int(labels_batch[i].item())\n",
    "        ax.set_title(f\"Label: {class_names[label_index]}\")\n",
    "        ax.axis(\"off\")\n",
    "\n",
    "    plt.tight_layout()\n",
    "    plt.show()"
   ]
  },
  {
   "cell_type": "code",
   "execution_count": 8,
   "id": "16e24915",
   "metadata": {},
   "outputs": [
    {
     "name": "stdout",
     "output_type": "stream",
     "text": [
      "Displaying a batch of training images after transforms:\n"
     ]
    },
    {
     "data": {
      "image/png": "[encoded data removed]",
      "text/plain": [
       "<Figure size 1000x1000 with 9 Axes>"
      ]
     },
     "metadata": {},
     "output_type": "display_data"
    }
   ],
   "source": [
    "data_iter = iter(test_dataloader)\n",
    "try:\n",
    "    images, labels = next(data_iter)\n",
    "    \n",
    "    print(\"Displaying a batch of training images after transforms:\")\n",
    "    imshow_batch(images, labels, dataset.classes, num_images_to_show=9)\n",
    "\n",
    "except StopIteration:\n",
    "    print(\"DataLoader is empty or could not fetch a batch.\")"
   ]
  },
  {
   "cell_type": "markdown",
   "id": "8139f66d",
   "metadata": {},
   "source": [
    "# Treinamento de uma MLP Simples\n",
    "\n",
    "Nesta etapa, será realizado o treinamento de uma Rede Perceptron Multicamadas (MLP) básica, composta por duas camadas ocultas. Para otimizar e gerenciar o processo de treinamento, será utilizada a biblioteca `PyTorch Lightning`.\n",
    "\n",
    "Uma rotina de treinamento foi customizada para simplificar a aplicação de técnicas de regularização, como L2, L1 e dropout. Contudo, funcionalidades essenciais da biblioteca `PyTorch Lightning`, como o mecanismo de `EarlyStopping` (parada antecipada) e a classe `Trainer` para a orquestração do ciclo de treinamento, continuarão a ser empregadas."
   ]
  },
  {
   "cell_type": "code",
   "execution_count": 9,
   "id": "6b5ed4f8",
   "metadata": {},
   "outputs": [],
   "source": [
    "class ModelHParams(Namespace):\n",
    "    lr: float\n",
    "    num_classes: int\n",
    "    weight_decay: float  # L2 Regularization\n",
    "    l1_strength: float  # L1 Regularization\n",
    "\n",
    "\n",
    "class LightModel(pl.LightningModule):\n",
    "    model: nn.Module\n",
    "    hparams: ModelHParams\n",
    "\n",
    "    def __init__(\n",
    "        self,\n",
    "        model: nn.Module,\n",
    "        lr: float = 1e-3,\n",
    "        num_classes: int = 10,\n",
    "        weight_decay: float = 0.0,  # No L2 regularization\n",
    "        l1_strength: float = 0.0,  # No L1 regularization\n",
    "    ):\n",
    "        super().__init__()\n",
    "        self.save_hyperparameters(ignore=[\"model\"])\n",
    "        self.model = model\n",
    "\n",
    "    def forward(self, x: torch.Tensor) -> torch.Tensor:\n",
    "        return self.model(x)\n",
    "\n",
    "    def training_step(self, batch: Tuple[torch.Tensor, torch.Tensor]) -> torch.Tensor:\n",
    "        X, y = batch\n",
    "        y_hat: torch.Tensor = self(X)\n",
    "        cross_entropy_loss = nn.functional.cross_entropy(y_hat, y)\n",
    "        total_loss = cross_entropy_loss\n",
    "\n",
    "        if self.hparams.l1_strength > 0:\n",
    "            total_loss = self._deal_with_l1(total_loss)\n",
    "            \n",
    "        self.log(\n",
    "            \"train_loss\",\n",
    "            total_loss,\n",
    "            on_step=True,\n",
    "            on_epoch=True,\n",
    "            prog_bar=True,\n",
    "            logger=True,\n",
    "            sync_dist=True,\n",
    "        )\n",
    "        \n",
    "        return total_loss\n",
    "\n",
    "    def _deal_with_l1(self, total_loss: torch.Tensor) -> torch.Tensor:\n",
    "        l1_penalty = 0.0\n",
    "        for param in self.model.parameters():\n",
    "            if param.requires_grad:\n",
    "                l1_penalty += torch.norm(param, 1)  # L1 norm\n",
    "        total_loss += self.hparams.l1_strength * l1_penalty\n",
    "        return total_loss\n",
    "\n",
    "    def validation_step(self, batch: Tuple[torch.Tensor, torch.Tensor]) -> torch.Tensor:\n",
    "        X, y = batch\n",
    "        y_hat: torch.Tensor = self(X)\n",
    "        loss = nn.functional.cross_entropy(y_hat, y)\n",
    "        self.log(\n",
    "            \"val_loss\",\n",
    "            loss,\n",
    "            on_step=False,\n",
    "            on_epoch=True,\n",
    "            prog_bar=True,\n",
    "        )\n",
    "        return loss\n",
    "\n",
    "    def test_step(self, batch: Tuple[torch.Tensor, torch.Tensor]):\n",
    "        X, y = batch\n",
    "        y_hat: torch.Tensor = self(X)\n",
    "        preds = torch.argmax(y_hat, dim=1)\n",
    "        acc = accuracy(\n",
    "            preds,\n",
    "            y,\n",
    "            task=\"multiclass\",\n",
    "            num_classes=self.hparams.get(\"num_classes\", 10),\n",
    "        )\n",
    "        self.log(\"test_acc\", acc, on_epoch=True)\n",
    "        loss = nn.functional.cross_entropy(y_hat, y)\n",
    "        self.log(\"test_loss\", loss, on_epoch=True)\n",
    "\n",
    "    def configure_optimizers(self) -> optim.Optimizer:\n",
    "        optimizer = optim.Adam(\n",
    "            self.parameters(),\n",
    "            lr=self.hparams.lr,\n",
    "            weight_decay=self.hparams.weight_decay,\n",
    "        )\n",
    "        return optimizer"
   ]
  },
  {
   "cell_type": "markdown",
   "id": "2db4e659",
   "metadata": {},
   "source": [
    "## Modelo Mais Simples\n",
    "\n",
    "Este modelo inicial representa a configuração mais básica, sem a aplicação de técnicas de regularização L1 ou L2. Como função de ativação nas camadas ocultas, utiliza-se a ReLU. A arquitetura é detalhada no diagrama abaixo:\n",
    "\n",
    "<center>\n",
    "\n",
    "```mermaid\n",
    "graph LR\n",
    "    Input[Entrada<br/>Imagem 3x32x32<br/>Vetor de 3072 características] --> Hidden1(1ª Camada Oculta<br/>64 neurônios<br/>Ativação: ReLU);\n",
    "    Hidden1 --> Hidden2(2ª Camada Oculta<br/>16 neurônios<br/>Ativação: ReLU);\n",
    "    Hidden2 --> Output[Camada de Saída<br/>10 classes neurônios]\n",
    "```\n",
    "</center>\n"
   ]
  },
  {
   "cell_type": "code",
   "execution_count": 10,
   "id": "685f1b97",
   "metadata": {},
   "outputs": [
    {
     "name": "stderr",
     "output_type": "stream",
     "text": [
      "Using default `ModelCheckpoint`. Consider installing `litmodels` package to enable `LitModelCheckpoint` for automatic upload to the Lightning model registry.\n",
      "GPU available: True (cuda), used: True\n",
      "TPU available: False, using: 0 TPU cores\n",
      "HPU available: False, using: 0 HPUs\n",
      "c:\\Dev\\Coding\\personal\\Curso\\ML\\ENE0082\\Trabalhos\\Trabaho 3\\.venv\\Lib\\site-packages\\pytorch_lightning\\trainer\\connectors\\logger_connector\\logger_connector.py:76: Starting from v1.9.0, `tensorboardX` has been removed as a dependency of the `pytorch_lightning` package, due to potential conflicts with other packages in the ML ecosystem. For this reason, `logger=True` will use `CSVLogger` as the default logger, unless the `tensorboard` or `tensorboardX` packages are found. Please `pip install lightning[extra]` or one of them to enable TensorBoard support by default\n",
      "LOCAL_RANK: 0 - CUDA_VISIBLE_DEVICES: [0]\n",
      "\n",
      "  | Name  | Type       | Params | Mode \n",
      "---------------------------------------------\n",
      "0 | model | Sequential | 197 K  | train\n",
      "---------------------------------------------\n",
      "197 K     Trainable params\n",
      "0         Non-trainable params\n",
      "197 K     Total params\n",
      "0.792     Total estimated model params size (MB)\n",
      "7         Modules in train mode\n",
      "0         Modules in eval mode\n"
     ]
    },
    {
     "name": "stdout",
     "output_type": "stream",
     "text": [
      "\n",
      "--- Training MLP classifier ---\n",
      "\n",
      "Epoch 12: 100%|██████████| 625/625 [00:07<00:00, 80.22it/s, v_num=54, train_loss_step=1.420, val_loss=1.460, train_loss_epoch=1.130] \n"
     ]
    }
   ],
   "source": [
    "arch = nn.Sequential(\n",
    "    nn.Flatten(),\n",
    "    nn.Linear(3 * 32 * 32, 64),\n",
    "    nn.ReLU(),\n",
    "    nn.Linear(64, 16),\n",
    "    nn.ReLU(),\n",
    "    nn.Linear(16, 10),\n",
    ")\n",
    "mlp = LightModel(arch)\n",
    "\n",
    "early_stopping = EarlyStopping(\n",
    "    monitor=\"val_loss\",\n",
    "    patience=5, \n",
    "    mode=\"min\",\n",
    "    min_delta=0.001,\n",
    ")\n",
    "trainer = Trainer(\n",
    "    callbacks=[early_stopping], max_epochs=50, accelerator=device_type, devices=1\n",
    ")\n",
    "print(\"\\n--- Training MLP classifier ---\\n\")\n",
    "trainer.fit(\n",
    "    model=mlp, train_dataloaders=train_dataloader, val_dataloaders=val_dataloader\n",
    ")"
   ]
  },
  {
   "cell_type": "code",
   "execution_count": 11,
   "id": "9d254b66",
   "metadata": {},
   "outputs": [
    {
     "name": "stderr",
     "output_type": "stream",
     "text": [
      "LOCAL_RANK: 0 - CUDA_VISIBLE_DEVICES: [0]\n"
     ]
    },
    {
     "name": "stdout",
     "output_type": "stream",
     "text": [
      "\n",
      "--- Testing MPL classifier ---\n",
      "\n",
      "Testing DataLoader 0: 100%|██████████| 157/157 [00:01<00:00, 120.63it/s]\n",
      "────────────────────────────────────────────────────────────────────────────────────────────────────────────────────────\n",
      "       Test metric             DataLoader 0\n",
      "────────────────────────────────────────────────────────────────────────────────────────────────────────────────────────\n",
      "        test_acc            0.5020999908447266\n",
      "        test_loss           1.4607789516448975\n",
      "────────────────────────────────────────────────────────────────────────────────────────────────────────────────────────\n"
     ]
    },
    {
     "data": {
      "text/plain": [
       "[{'test_acc': 0.5020999908447266, 'test_loss': 1.4607789516448975}]"
      ]
     },
     "execution_count": 11,
     "metadata": {},
     "output_type": "execute_result"
    }
   ],
   "source": [
    "print(\"\\n--- Testing MPL classifier ---\\n\")\n",
    "trainer.test(model=mlp, dataloaders=test_dataloader)"
   ]
  },
  {
   "cell_type": "markdown",
   "id": "9010b22b",
   "metadata": {},
   "source": [
    "**Conclusões sobre o Modelo Simples**\n",
    "\n",
    "A acurácia obtida com o modelo simples situa-se em aproximadamente 50%. Embora este valor possa ser considerado modesto, tal desempenho era, em certa medida, esperado, dada a simplicidade da arquitetura empregada frente à tarefa de classificação.\n",
    "\n",
    "Contudo, alcançar este patamar de acurácia, especialmente ao considerar a complexidade intrínseca das imagens do dataset (CIFAR-10) e sua baixa resolução (32x32 pixels), pode ser interpretado como um resultado inicial promissor. Este desempenho indica que o modelo conseguiu aprender algumas características relevantes dos dados, estabelecendo uma linha de base para futuras otimizações e a exploração de arquiteturas mais elaboradas."
   ]
  },
  {
   "cell_type": "markdown",
   "id": "b69f8cc6",
   "metadata": {},
   "source": [
    "## Modelo MLP com Regularização L1\n",
    "\n",
    "Mantendo a mesma arquitetura e os mesmos hiperparâmetros do [modelo mais simples](#modelo-mais-simples), este modelo diferencia-se pela introdução da regularização L1."
   ]
  },
  {
   "cell_type": "code",
   "execution_count": 12,
   "id": "16a087dd",
   "metadata": {},
   "outputs": [
    {
     "name": "stderr",
     "output_type": "stream",
     "text": [
      "Using default `ModelCheckpoint`. Consider installing `litmodels` package to enable `LitModelCheckpoint` for automatic upload to the Lightning model registry.\n",
      "GPU available: True (cuda), used: True\n",
      "TPU available: False, using: 0 TPU cores\n",
      "HPU available: False, using: 0 HPUs\n",
      "LOCAL_RANK: 0 - CUDA_VISIBLE_DEVICES: [0]\n",
      "\n",
      "  | Name  | Type       | Params | Mode \n",
      "---------------------------------------------\n",
      "0 | model | Sequential | 197 K  | train\n",
      "---------------------------------------------\n",
      "197 K     Trainable params\n",
      "0         Non-trainable params\n",
      "197 K     Total params\n",
      "0.792     Total estimated model params size (MB)\n",
      "7         Modules in train mode\n",
      "0         Modules in eval mode\n"
     ]
    },
    {
     "name": "stdout",
     "output_type": "stream",
     "text": [
      "\n",
      "--- Training MLP classifier L1 ---\n",
      "\n",
      "Epoch 14: 100%|██████████| 625/625 [00:08<00:00, 73.09it/s, v_num=55, train_loss_step=1.380, val_loss=1.480, train_loss_epoch=1.240]\n"
     ]
    }
   ],
   "source": [
    "arch = nn.Sequential(\n",
    "    nn.Flatten(),\n",
    "    nn.Linear(3 * 32 * 32, 64),\n",
    "    nn.ReLU(),\n",
    "    nn.Linear(64, 16),\n",
    "    nn.ReLU(),\n",
    "    nn.Linear(16, 10),\n",
    ")\n",
    "mlp = LightModel(arch, l1_strength=1e-5)\n",
    "\n",
    "early_stopping = EarlyStopping(\n",
    "    monitor=\"val_loss\",\n",
    "    patience=5, \n",
    "    mode=\"min\",\n",
    "    min_delta=0.001,\n",
    ")\n",
    "trainer = Trainer(\n",
    "    callbacks=[early_stopping], max_epochs=50, accelerator=device_type, devices=1\n",
    ")\n",
    "print(\"\\n--- Training MLP classifier L1 ---\\n\")\n",
    "trainer.fit(\n",
    "    model=mlp, train_dataloaders=train_dataloader, val_dataloaders=val_dataloader\n",
    ")"
   ]
  },
  {
   "cell_type": "code",
   "execution_count": 13,
   "id": "e6bbadf8",
   "metadata": {},
   "outputs": [
    {
     "name": "stderr",
     "output_type": "stream",
     "text": [
      "LOCAL_RANK: 0 - CUDA_VISIBLE_DEVICES: [0]\n"
     ]
    },
    {
     "name": "stdout",
     "output_type": "stream",
     "text": [
      "\n",
      "--- Testing MPL classifier L1---\n",
      "\n",
      "Testing DataLoader 0: 100%|██████████| 157/157 [00:01<00:00, 132.00it/s]\n",
      "────────────────────────────────────────────────────────────────────────────────────────────────────────────────────────\n",
      "       Test metric             DataLoader 0\n",
      "────────────────────────────────────────────────────────────────────────────────────────────────────────────────────────\n",
      "        test_acc            0.4975999891757965\n",
      "        test_loss           1.4784318208694458\n",
      "────────────────────────────────────────────────────────────────────────────────────────────────────────────────────────\n"
     ]
    },
    {
     "data": {
      "text/plain": [
       "[{'test_acc': 0.4975999891757965, 'test_loss': 1.4784318208694458}]"
      ]
     },
     "execution_count": 13,
     "metadata": {},
     "output_type": "execute_result"
    }
   ],
   "source": [
    "print(\"\\n--- Testing MPL classifier L1---\\n\")\n",
    "trainer.test(model=mlp, dataloaders=test_dataloader)"
   ]
  },
  {
   "cell_type": "markdown",
   "id": "2d841758",
   "metadata": {},
   "source": [
    "**Conclusões sobre o Modelo Simples com Regularização L1**\n",
    "\n",
    "Os resultados de acurácia obtidos são praticamente idênticos aos do modelo sem regularização. Contudo, observou-se um período de treinamento mais longo."
   ]
  },
  {
   "cell_type": "markdown",
   "id": "5593db33",
   "metadata": {},
   "source": [
    "## Modelo MLP com Regularização L2\n",
    "\n",
    "Mantendo a mesma arquitetura e os mesmos hiperparâmetros do [modelo mais simples](#modelo-mais-simples), este modelo diferencia-se pela introdução da regularização L2."
   ]
  },
  {
   "cell_type": "code",
   "execution_count": 14,
   "id": "6b3dd30a",
   "metadata": {},
   "outputs": [
    {
     "name": "stderr",
     "output_type": "stream",
     "text": [
      "Using default `ModelCheckpoint`. Consider installing `litmodels` package to enable `LitModelCheckpoint` for automatic upload to the Lightning model registry.\n",
      "GPU available: True (cuda), used: True\n",
      "TPU available: False, using: 0 TPU cores\n",
      "HPU available: False, using: 0 HPUs\n",
      "LOCAL_RANK: 0 - CUDA_VISIBLE_DEVICES: [0]\n",
      "\n",
      "  | Name  | Type       | Params | Mode \n",
      "---------------------------------------------\n",
      "0 | model | Sequential | 197 K  | train\n",
      "---------------------------------------------\n",
      "197 K     Trainable params\n",
      "0         Non-trainable params\n",
      "197 K     Total params\n",
      "0.792     Total estimated model params size (MB)\n",
      "7         Modules in train mode\n",
      "0         Modules in eval mode\n"
     ]
    },
    {
     "name": "stdout",
     "output_type": "stream",
     "text": [
      "\n",
      "--- Training MLP classifier L2 ---\n",
      "\n",
      "Epoch 13: 100%|██████████| 625/625 [00:08<00:00, 77.24it/s, v_num=56, train_loss_step=1.140, val_loss=1.500, train_loss_epoch=1.120] \n"
     ]
    }
   ],
   "source": [
    "arch = nn.Sequential(\n",
    "    nn.Flatten(),\n",
    "    nn.Linear(3 * 32 * 32, 64),\n",
    "    nn.ReLU(),\n",
    "    nn.Linear(64, 16),\n",
    "    nn.ReLU(),\n",
    "    nn.Linear(16, 10),\n",
    ")\n",
    "mlp = LightModel(arch, weight_decay=1e-5)\n",
    "\n",
    "early_stopping = EarlyStopping(\n",
    "    monitor=\"val_loss\",\n",
    "    patience=5, \n",
    "    mode=\"min\",\n",
    "    min_delta=0.001,\n",
    ")\n",
    "trainer = Trainer(\n",
    "    callbacks=[early_stopping], max_epochs=50, accelerator=device_type, devices=1\n",
    ")\n",
    "print(\"\\n--- Training MLP classifier L2 ---\\n\")\n",
    "trainer.fit(\n",
    "    model=mlp, train_dataloaders=train_dataloader, val_dataloaders=val_dataloader\n",
    ")"
   ]
  },
  {
   "cell_type": "code",
   "execution_count": 15,
   "id": "494dac6c",
   "metadata": {},
   "outputs": [
    {
     "name": "stderr",
     "output_type": "stream",
     "text": [
      "LOCAL_RANK: 0 - CUDA_VISIBLE_DEVICES: [0]\n"
     ]
    },
    {
     "name": "stdout",
     "output_type": "stream",
     "text": [
      "\n",
      "--- Testing MPL classifier L2---\n",
      "\n",
      "Testing DataLoader 0: 100%|██████████| 157/157 [00:01<00:00, 140.48it/s]\n",
      "────────────────────────────────────────────────────────────────────────────────────────────────────────────────────────\n",
      "       Test metric             DataLoader 0\n",
      "────────────────────────────────────────────────────────────────────────────────────────────────────────────────────────\n",
      "        test_acc            0.4950000047683716\n",
      "        test_loss           1.5034754276275635\n",
      "────────────────────────────────────────────────────────────────────────────────────────────────────────────────────────\n"
     ]
    },
    {
     "data": {
      "text/plain": [
       "[{'test_acc': 0.4950000047683716, 'test_loss': 1.5034754276275635}]"
      ]
     },
     "execution_count": 15,
     "metadata": {},
     "output_type": "execute_result"
    }
   ],
   "source": [
    "print(\"\\n--- Testing MPL classifier L2---\\n\")\n",
    "trainer.test(model=mlp, dataloaders=test_dataloader)"
   ]
  },
  {
   "cell_type": "markdown",
   "id": "393eb352",
   "metadata": {},
   "source": [
    "**Conclusões sobre o Modelo Simples com Regularização L2**\n",
    "\n",
    "Os resultados de acurácia obtidos foram, em geral, consistentes com os dos dois testes precedentes. Tempo de treinamento inalterado."
   ]
  },
  {
   "cell_type": "markdown",
   "id": "0c334d2f",
   "metadata": {},
   "source": [
    "### Experimento com Leaky ReLU\n",
    "\n",
    "\n",
    "<center>\n",
    "\n",
    "```mermaid\n",
    "graph LR\n",
    "    Input[Entrada<br/>Imagem 3x32x32<br/>Vetor de 3072 características] --> Hidden1(1ª Camada Oculta<br/>64 neurônios<br/>Ativação: Leaky ReLU);\n",
    "    Hidden1 --> Hidden2(2ª Camada Oculta<br/>16 neurônios<br/>Ativação: Leaky ReLU);\n",
    "    Hidden2 --> Output[Camada de Saída<br/>10 classes neurônios]\n",
    "```\n",
    "</center>"
   ]
  },
  {
   "cell_type": "code",
   "execution_count": 16,
   "id": "9df705cc",
   "metadata": {},
   "outputs": [
    {
     "name": "stderr",
     "output_type": "stream",
     "text": [
      "Using default `ModelCheckpoint`. Consider installing `litmodels` package to enable `LitModelCheckpoint` for automatic upload to the Lightning model registry.\n",
      "GPU available: True (cuda), used: True\n",
      "TPU available: False, using: 0 TPU cores\n",
      "HPU available: False, using: 0 HPUs\n",
      "LOCAL_RANK: 0 - CUDA_VISIBLE_DEVICES: [0]\n",
      "\n",
      "  | Name  | Type       | Params | Mode \n",
      "---------------------------------------------\n",
      "0 | model | Sequential | 197 K  | train\n",
      "---------------------------------------------\n",
      "197 K     Trainable params\n",
      "0         Non-trainable params\n",
      "197 K     Total params\n",
      "0.792     Total estimated model params size (MB)\n",
      "7         Modules in train mode\n",
      "0         Modules in eval mode\n"
     ]
    },
    {
     "name": "stdout",
     "output_type": "stream",
     "text": [
      "\n",
      "--- Training MLP classifier Leaky ReLU---\n",
      "\n",
      "Epoch 10: 100%|██████████| 625/625 [00:07<00:00, 83.00it/s, v_num=57, train_loss_step=1.140, val_loss=1.430, train_loss_epoch=1.170] \n"
     ]
    }
   ],
   "source": [
    "arch_leaky = nn.Sequential(\n",
    "    nn.Flatten(),\n",
    "    nn.Linear(3 * 32 * 32, 64),\n",
    "    nn.LeakyReLU(),\n",
    "    nn.Linear(64, 16),\n",
    "    nn.LeakyReLU(),\n",
    "    nn.Linear(16, 10),\n",
    ")\n",
    "\n",
    "mlp = LightModel(arch_leaky)\n",
    "\n",
    "early_stopping = EarlyStopping(\n",
    "    monitor=\"val_loss\",\n",
    "    patience=5, \n",
    "    mode=\"min\",\n",
    "    min_delta=0.001,\n",
    ")\n",
    "trainer = Trainer(\n",
    "    callbacks=[early_stopping], max_epochs=50, accelerator=device_type, devices=1\n",
    ")\n",
    "print(\"\\n--- Training MLP classifier Leaky ReLU---\\n\")\n",
    "trainer.fit(\n",
    "    model=mlp, train_dataloaders=train_dataloader, val_dataloaders=val_dataloader\n",
    ")"
   ]
  },
  {
   "cell_type": "code",
   "execution_count": 17,
   "id": "49c18b0f",
   "metadata": {},
   "outputs": [
    {
     "name": "stderr",
     "output_type": "stream",
     "text": [
      "LOCAL_RANK: 0 - CUDA_VISIBLE_DEVICES: [0]\n"
     ]
    },
    {
     "name": "stdout",
     "output_type": "stream",
     "text": [
      "\n",
      "--- Testing MPL classifier Leaky ReLU---\n",
      "\n",
      "Testing DataLoader 0: 100%|██████████| 157/157 [00:01<00:00, 137.43it/s]\n",
      "────────────────────────────────────────────────────────────────────────────────────────────────────────────────────────\n",
      "       Test metric             DataLoader 0\n",
      "────────────────────────────────────────────────────────────────────────────────────────────────────────────────────────\n",
      "        test_acc            0.5091999769210815\n",
      "        test_loss           1.4291560649871826\n",
      "────────────────────────────────────────────────────────────────────────────────────────────────────────────────────────\n"
     ]
    },
    {
     "data": {
      "text/plain": [
       "[{'test_acc': 0.5091999769210815, 'test_loss': 1.4291560649871826}]"
      ]
     },
     "execution_count": 17,
     "metadata": {},
     "output_type": "execute_result"
    }
   ],
   "source": [
    "print(\"\\n--- Testing MPL classifier Leaky ReLU---\\n\")\n",
    "trainer.test(model=mlp, dataloaders=test_dataloader)"
   ]
  },
  {
   "cell_type": "markdown",
   "id": "2430a301",
   "metadata": {},
   "source": [
    "**Conclusões sobre o Experimento com Leaky ReLU**\n",
    "\n",
    "Os resultados de desempenho foram similares aos obtidos em experimentos anteriores. Contudo, observou-se uma ligeira redução no tempo de treinamento."
   ]
  },
  {
   "cell_type": "markdown",
   "id": "00c829de",
   "metadata": {},
   "source": [
    "## Modelo MLP com Dropout\n",
    "\n",
    "Serão utilizados os mesmos parâmetros do [modelo simples](#modelo-mais-simples). Contudo, nesta iteração, será aplicada a técnica de Dropout com uma probabilidade de 50%, a fim de observar e analisar o impacto nos resultados.\n",
    "<center>\n",
    "\n",
    "```mermaid\n",
    "graph LR\n",
    "    Input[Entrada<br/>Imagem 3x32x32<br/>Vetor de 3072 características] --> Hidden1(1ª Camada Oculta<br/>64 neurônios<br/>Ativação: ReLU<br/>Dropout: 50%);\n",
    "    Hidden1 --> Hidden2(2ª Camada Oculta<br/>16 neurônios<br/>Ativação: ReLU<br/>Dropout: 50%);\n",
    "    Hidden2 --> Output[Camada de Saída<br/>10 classes neurônios]\n",
    "```\n",
    "</center>"
   ]
  },
  {
   "cell_type": "code",
   "execution_count": 18,
   "id": "d1f94052",
   "metadata": {},
   "outputs": [
    {
     "name": "stderr",
     "output_type": "stream",
     "text": [
      "Using default `ModelCheckpoint`. Consider installing `litmodels` package to enable `LitModelCheckpoint` for automatic upload to the Lightning model registry.\n",
      "GPU available: True (cuda), used: True\n",
      "TPU available: False, using: 0 TPU cores\n",
      "HPU available: False, using: 0 HPUs\n",
      "LOCAL_RANK: 0 - CUDA_VISIBLE_DEVICES: [0]\n",
      "\n",
      "  | Name  | Type       | Params | Mode \n",
      "---------------------------------------------\n",
      "0 | model | Sequential | 197 K  | train\n",
      "---------------------------------------------\n",
      "197 K     Trainable params\n",
      "0         Non-trainable params\n",
      "197 K     Total params\n",
      "0.792     Total estimated model params size (MB)\n",
      "9         Modules in train mode\n",
      "0         Modules in eval mode\n"
     ]
    },
    {
     "name": "stdout",
     "output_type": "stream",
     "text": [
      "\n",
      "--- Training MLP classifier Dropout---\n",
      "\n",
      "Epoch 38: 100%|██████████| 625/625 [00:12<00:00, 49.66it/s, v_num=58, train_loss_step=1.810, val_loss=1.620, train_loss_epoch=1.760] \n"
     ]
    }
   ],
   "source": [
    "dropout_p = 0.5\n",
    "arch = nn.Sequential(\n",
    "    nn.Flatten(),\n",
    "    nn.Linear(3 * 32 * 32, 64),\n",
    "    nn.ReLU(),\n",
    "    nn.Dropout(p=dropout_p),\n",
    "    nn.Linear(64, 16),\n",
    "    nn.ReLU(),\n",
    "    nn.Dropout(p=dropout_p),\n",
    "    nn.Linear(16, 10),\n",
    ")\n",
    "\n",
    "mlp = LightModel(arch)\n",
    "\n",
    "\n",
    "early_stopping = EarlyStopping(\n",
    "    monitor=\"val_loss\",\n",
    "    patience=5, \n",
    "    mode=\"min\",\n",
    "    min_delta=0.001,\n",
    ")\n",
    "trainer = Trainer(\n",
    "    callbacks=[early_stopping], max_epochs=50, accelerator=device_type, devices=1\n",
    ")\n",
    "print(\"\\n--- Training MLP classifier Dropout---\\n\")\n",
    "\n",
    "trainer.fit(\n",
    "    model=mlp, train_dataloaders=train_dataloader, val_dataloaders=val_dataloader\n",
    ")"
   ]
  },
  {
   "cell_type": "code",
   "execution_count": 19,
   "id": "4612e412",
   "metadata": {},
   "outputs": [
    {
     "name": "stderr",
     "output_type": "stream",
     "text": [
      "LOCAL_RANK: 0 - CUDA_VISIBLE_DEVICES: [0]\n"
     ]
    },
    {
     "name": "stdout",
     "output_type": "stream",
     "text": [
      "\n",
      "--- Testing MPL classifier Dropout---\n",
      "\n",
      "Testing DataLoader 0: 100%|██████████| 157/157 [00:01<00:00, 130.73it/s]\n",
      "────────────────────────────────────────────────────────────────────────────────────────────────────────────────────────\n",
      "       Test metric             DataLoader 0\n",
      "────────────────────────────────────────────────────────────────────────────────────────────────────────────────────────\n",
      "        test_acc            0.4189999997615814\n",
      "        test_loss           1.6188361644744873\n",
      "────────────────────────────────────────────────────────────────────────────────────────────────────────────────────────\n"
     ]
    },
    {
     "data": {
      "text/plain": [
       "[{'test_acc': 0.4189999997615814, 'test_loss': 1.6188361644744873}]"
      ]
     },
     "execution_count": 19,
     "metadata": {},
     "output_type": "execute_result"
    }
   ],
   "source": [
    "print(\"\\n--- Testing MPL classifier Dropout---\\n\")\n",
    "trainer.test(model=mlp, dataloaders=test_dataloader)"
   ]
  },
  {
   "cell_type": "markdown",
   "id": "cc6295c6",
   "metadata": {},
   "source": [
    "**Conclusões sobre a MLP Simples com Dropout**\n",
    "\n",
    "Observou-se um tempo de treinamento consideravelmente estendido, e a acurácia apresentou uma queda significativa. Esse resultado pode indicar que, para a arquitetura em questão, o Dropout não é a técnica de regularização mais adequada, visto que a simplicidade do modelo não demanda a aplicação dessa ferramenta."
   ]
  },
  {
   "cell_type": "markdown",
   "id": "f8c79287",
   "metadata": {},
   "source": [
    "## Variação do Número de Neurônios na MLP\n",
    "\n",
    "Nesta etapa, será realizada a variação do número de neurônios nas camadas da MLP com o objetivo de identificar a configuração que otimize a acurácia do modelo."
   ]
  },
  {
   "cell_type": "code",
   "execution_count": 20,
   "id": "ece1bacb",
   "metadata": {},
   "outputs": [
    {
     "name": "stderr",
     "output_type": "stream",
     "text": [
      "Using default `ModelCheckpoint`. Consider installing `litmodels` package to enable `LitModelCheckpoint` for automatic upload to the Lightning model registry.\n",
      "GPU available: True (cuda), used: True\n",
      "TPU available: False, using: 0 TPU cores\n",
      "HPU available: False, using: 0 HPUs\n",
      "LOCAL_RANK: 0 - CUDA_VISIBLE_DEVICES: [0]\n",
      "\n",
      "  | Name  | Type       | Params | Mode \n",
      "---------------------------------------------\n",
      "0 | model | Sequential | 803 K  | train\n",
      "---------------------------------------------\n",
      "803 K     Trainable params\n",
      "0         Non-trainable params\n",
      "803 K     Total params\n",
      "3.215     Total estimated model params size (MB)\n",
      "7         Modules in train mode\n",
      "0         Modules in eval mode\n"
     ]
    },
    {
     "name": "stdout",
     "output_type": "stream",
     "text": [
      "\n",
      "--- Training MLP classifier ---\n",
      "\n",
      "Epoch 8: 100%|██████████| 625/625 [00:08<00:00, 74.68it/s, v_num=59, train_loss_step=1.070, val_loss=1.460, train_loss_epoch=0.965] \n"
     ]
    }
   ],
   "source": [
    "arch = nn.Sequential(\n",
    "    nn.Flatten(),\n",
    "    nn.Linear(3 * 32 * 32, 256),\n",
    "    nn.ReLU(),\n",
    "    nn.Linear(256, 64),\n",
    "    nn.ReLU(),\n",
    "    nn.Linear(64, 10),\n",
    ")\n",
    "\n",
    "mlp = LightModel(arch)\n",
    "\n",
    "early_stopping = EarlyStopping(\n",
    "    monitor=\"val_loss\",\n",
    "    patience=5, \n",
    "    mode=\"min\",\n",
    "    min_delta=0.001,\n",
    ")\n",
    "trainer = Trainer(\n",
    "    callbacks=[early_stopping], max_epochs=50, accelerator=device_type, devices=1\n",
    ")\n",
    "print(\"\\n--- Training MLP classifier ---\\n\")\n",
    "trainer.fit(\n",
    "    model=mlp, train_dataloaders=train_dataloader, val_dataloaders=val_dataloader\n",
    ")"
   ]
  },
  {
   "cell_type": "code",
   "execution_count": 21,
   "id": "bef178f0",
   "metadata": {},
   "outputs": [
    {
     "name": "stderr",
     "output_type": "stream",
     "text": [
      "LOCAL_RANK: 0 - CUDA_VISIBLE_DEVICES: [0]\n"
     ]
    },
    {
     "name": "stdout",
     "output_type": "stream",
     "text": [
      "\n",
      "--- Testing MPL classifier ---\n",
      "\n",
      "Testing DataLoader 0: 100%|██████████| 157/157 [00:01<00:00, 112.43it/s]\n",
      "────────────────────────────────────────────────────────────────────────────────────────────────────────────────────────\n",
      "       Test metric             DataLoader 0\n",
      "────────────────────────────────────────────────────────────────────────────────────────────────────────────────────────\n",
      "        test_acc            0.5278000235557556\n",
      "        test_loss           1.4579455852508545\n",
      "────────────────────────────────────────────────────────────────────────────────────────────────────────────────────────\n"
     ]
    },
    {
     "data": {
      "text/plain": [
       "[{'test_acc': 0.5278000235557556, 'test_loss': 1.4579455852508545}]"
      ]
     },
     "execution_count": 21,
     "metadata": {},
     "output_type": "execute_result"
    }
   ],
   "source": [
    "print(\"\\n--- Testing MPL classifier ---\\n\")\n",
    "trainer.test(model=mlp, dataloaders=test_dataloader)"
   ]
  },
  {
   "cell_type": "markdown",
   "id": "4a160f38",
   "metadata": {},
   "source": [
    "**Conclusões sobre a Variação do Número de Neurônios**\n",
    "\n",
    "Após uma série de experimentos, constatou-se que a configuração com 256 neurônios na primeira camada oculta e 64 neurônios na segunda resultou em um equilíbrio favorável entre acurácia e tempo de treinamento."
   ]
  },
  {
   "cell_type": "markdown",
   "id": "166449b9",
   "metadata": {},
   "source": [
    "## Modelo MLP com Melhores Técnicas\n",
    "\n",
    "Nesta etapa, serão aplicadas as melhores técnicas identificadas em experimentos anteriores, com o objetivo de otimizar o tempo de treinamento e maximizar a precisão. Isso inclui a utilização da função de ativação Leaky ReLU e a configuração do número ótimo de neurônios, conforme determinado previamente."
   ]
  },
  {
   "cell_type": "code",
   "execution_count": 22,
   "id": "ed4b654f",
   "metadata": {},
   "outputs": [
    {
     "name": "stderr",
     "output_type": "stream",
     "text": [
      "Using default `ModelCheckpoint`. Consider installing `litmodels` package to enable `LitModelCheckpoint` for automatic upload to the Lightning model registry.\n",
      "GPU available: True (cuda), used: True\n",
      "TPU available: False, using: 0 TPU cores\n",
      "HPU available: False, using: 0 HPUs\n",
      "LOCAL_RANK: 0 - CUDA_VISIBLE_DEVICES: [0]\n",
      "\n",
      "  | Name  | Type       | Params | Mode \n",
      "---------------------------------------------\n",
      "0 | model | Sequential | 803 K  | train\n",
      "---------------------------------------------\n",
      "803 K     Trainable params\n",
      "0         Non-trainable params\n",
      "803 K     Total params\n",
      "3.215     Total estimated model params size (MB)\n",
      "7         Modules in train mode\n",
      "0         Modules in eval mode\n"
     ]
    },
    {
     "name": "stdout",
     "output_type": "stream",
     "text": [
      "\n",
      "--- Training MLP classifier Best Techs ---\n",
      "\n",
      "Epoch 10: 100%|██████████| 625/625 [00:08<00:00, 73.06it/s, v_num=60, train_loss_step=0.645, val_loss=1.530, train_loss_epoch=0.855]\n"
     ]
    }
   ],
   "source": [
    "arch = nn.Sequential(\n",
    "    nn.Flatten(),\n",
    "    nn.Linear(3 * 32 * 32, 256),\n",
    "    nn.LeakyReLU(),\n",
    "    nn.Linear(256, 64),\n",
    "    nn.LeakyReLU(),\n",
    "    nn.Linear(64, 10),\n",
    ")\n",
    "\n",
    "mlp = LightModel(arch)\n",
    "\n",
    "early_stopping = EarlyStopping(\n",
    "    monitor=\"val_loss\",\n",
    "    patience=5, \n",
    "    mode=\"min\",\n",
    "    min_delta=0.001,\n",
    ")\n",
    "trainer = Trainer(\n",
    "    callbacks=[early_stopping], max_epochs=50, accelerator=device_type, devices=1\n",
    ")\n",
    "print(\"\\n--- Training MLP classifier Best Techs ---\\n\")\n",
    "trainer.fit(\n",
    "    model=mlp, train_dataloaders=train_dataloader, val_dataloaders=val_dataloader\n",
    ")"
   ]
  },
  {
   "cell_type": "code",
   "execution_count": 23,
   "id": "e7722ef9",
   "metadata": {},
   "outputs": [
    {
     "name": "stderr",
     "output_type": "stream",
     "text": [
      "LOCAL_RANK: 0 - CUDA_VISIBLE_DEVICES: [0]\n"
     ]
    },
    {
     "name": "stdout",
     "output_type": "stream",
     "text": [
      "\n",
      "--- Testing MPL classifier Best Techs---\n",
      "\n",
      "Testing DataLoader 0: 100%|██████████| 157/157 [00:01<00:00, 118.93it/s]\n",
      "────────────────────────────────────────────────────────────────────────────────────────────────────────────────────────\n",
      "       Test metric             DataLoader 0\n",
      "────────────────────────────────────────────────────────────────────────────────────────────────────────────────────────\n",
      "        test_acc            0.5249999761581421\n",
      "        test_loss           1.5264487266540527\n",
      "────────────────────────────────────────────────────────────────────────────────────────────────────────────────────────\n"
     ]
    },
    {
     "data": {
      "text/plain": [
       "[{'test_acc': 0.5249999761581421, 'test_loss': 1.5264487266540527}]"
      ]
     },
     "execution_count": 23,
     "metadata": {},
     "output_type": "execute_result"
    }
   ],
   "source": [
    "print(\"\\n--- Testing MPL classifier Best Techs---\\n\")\n",
    "trainer.test(model=mlp, dataloaders=test_dataloader)"
   ]
  },
  {
   "cell_type": "markdown",
   "id": "5a943b39",
   "metadata": {},
   "source": [
    "**Conclusões sobre a MLP com as Melhores Técnicas**\n",
    "\n",
    "O tempo de treinamento transcorreu conforme o esperado, e a acurácia, por sua vez, mostrou-se bastante satisfatória."
   ]
  },
  {
   "cell_type": "markdown",
   "id": "43934e69",
   "metadata": {},
   "source": [
    "## Uso da Rede VGG16 Pré-treinada\n",
    "\n",
    "Nesta etapa, será empregada uma rede pré-treinada: a VGG16. A seguir, um diagrama ilustra sua arquitetura."
   ]
  },
  {
   "cell_type": "markdown",
   "id": "87131cd7",
   "metadata": {},
   "source": [
    "```mermaid\n",
    "graph TD\n",
    "    subgraph VGG_Model [VGG Model]\n",
    "        direction LR\n",
    "\n",
    "        Input([Input Image:<br/>3x224x224])\n",
    "\n",
    "        subgraph Features_Block [Features]\n",
    "            %%direction LR\n",
    "\n",
    "            fb0[\"Layer: Conv2d<br/>In: 3, Out: 64, Kernel: 3x3, Stride: 1x1, Padding: 1x1<br/>Activator: ReLU\"]\n",
    "            fb1[\"Layer: Conv2d<br/>In: 64, Out: 64, Kernel: 3x3, Stride: 1x1, Padding: 1x1<br/>Activator: ReLU\"]\n",
    "            fb2[\"Layer: MaxPool2d<br/>Kernel: 2x2, Stride: 2x2\"]\n",
    "\n",
    "            fb3[\"Layer: Conv2d<br/>In: 64, Out: 128, Kernel: 3x3, Stride: 1x1, Padding: 1x1<br/>Activator: ReLU\"]\n",
    "            fb4[\"Layer: Conv2d<br/>In: 128, Out: 128, Kernel: 3x3, Stride: 1x1, Padding: 1x1<br/>Activator: ReLU\"]\n",
    "            fb5[\"Layer: MaxPool2d<br/>Kernel: 2x2, Stride: 2x2\"]\n",
    "\n",
    "            fb6[\"Layer: Conv2d<br/>In: 128, Out: 256, Kernel: 3x3, Stride: 1x1, Padding: 1x1<br/>Activator: ReLU\"]\n",
    "            fb7[\"Layer: Conv2d<br/>In: 256, Out: 256, Kernel: 3x3, Stride: 1x1, Padding: 1x1<br/>Activator: ReLU\"]\n",
    "            fb8[\"Layer: Conv2d<br/>In: 256, Out: 256, Kernel: 3x3, Stride: 1x1, Padding: 1x1<br/>Activator: ReLU\"]\n",
    "            fb9[\"Layer: MaxPool2d<br/>Kernel: 2x2, Stride: 2x2\"]\n",
    "\n",
    "            fb10[\"Layer: Conv2d<br/>In: 256, Out: 512, Kernel: 3x3, Stride: 1x1, Padding: 1x1<br/>Activator: ReLU\"]\n",
    "            fb11[\"Layer: Conv2d<br/>In: 512, Out: 512, Kernel: 3x3, Stride: 1x1, Padding: 1x1<br/>Activator: ReLU\"]\n",
    "            fb12[\"Layer: Conv2d<br/>In: 512, Out: 512, Kernel: 3x3, Stride: 1x1, Padding: 1x1<br/>Activator: ReLU\"]\n",
    "            fb13[\"Layer: MaxPool2d<br/>Kernel: 2x2, Stride: 2x2\"]\n",
    "\n",
    "            fb14[\"Layer: Conv2d<br/>In: 512, Out: 512, Kernel: 3x3, Stride: 1x1, Padding: 1x1<br/>Activator: ReLU\"]\n",
    "            fb15[\"Layer: Conv2d<br/>In: 512, Out: 512, Kernel: 3x3, Stride: 1x1, Padding: 1x1<br/>Activator: ReLU\"]\n",
    "            fb16[\"Layer: Conv2d<br/>In: 512, Out: 512, Kernel: 3x3, Stride: 1x1, Padding: 1x1<br/>Activator: ReLU\"]\n",
    "            fb17[\"Layer: MaxPool2d<br/>Kernel: 2x2, Stride: 2x2\"]\n",
    "\n",
    "            fb0 --> fb1 --> fb2 --> fb3 --> fb4 --> fb5 --> fb6 --> fb7 --> fb8 --> fb9 --> fb10\n",
    "            fb10 --> fb11 --> fb12 --> fb13 --> fb14 --> fb15 --> fb16 --> fb17\n",
    "        end\n",
    "\n",
    "        AvgPool[\"(avgpool) Layer: AdaptiveAvgPool2d<br/>Output Size: 7x7\"]\n",
    "\n",
    "        subgraph Classifier_Block [Classifier]\n",
    "            %%direction TD\n",
    "\n",
    "            cb0[\"Layer: Linear<br/>In Feat: 25088, Out Feat: 4096<br/>Activator: ReLU\"]\n",
    "            cb1[\"Layer: Dropout<br/>p: 0.5\"]\n",
    "            cb2[\"Layer: Linear<br/>In Feat: 4096, Out Feat: 4096<br/>Activator: ReLU\"]\n",
    "            cb3[\"Layer: Dropout<br/>p: 0.5\"]\n",
    "            cb4[\"Layer: Linear<br/>In Feat: 4096, Out Feat: 1000\"]\n",
    "\n",
    "            cb0 --> cb1 --> cb2 --> cb3 --> cb4\n",
    "        end\n",
    "\n",
    "        Output([Output:<br/>1000 classes])\n",
    "\n",
    "        Input --> Features_Block\n",
    "        Features_Block --> AvgPool\n",
    "        AvgPool --> Classifier_Block\n",
    "        Classifier_Block --> Output\n",
    "    end\n",
    "```"
   ]
  },
  {
   "cell_type": "markdown",
   "id": "ea2a77d7",
   "metadata": {},
   "source": [
    "Será realizada a modificação da camada classificadora da rede VGG16. A arquitetura VGG16 pré-treinada exige como entrada imagens com dimensões de 244x244 pixels e 3 canais de cor. Consequentemente, será necessário redimensionar o dataset para se adequar a este requisito.\n",
    "\n",
    "Para otimizar o processo de treinamento, **será empregada a função de ativação Leaky ReLU**, uma vez que experimentos anteriores indicaram um aumento na velocidade de treinamento. Em contrapartida, **o Dropout não será aplicado**, pois testes prévios com modelos de menor complexidade demonstraram que essa técnica não resultou em benefícios significativos.\n",
    "\n",
    "Abaixo, um diagrama ilustra a estrutura da nova camada classificadora que será definida. Além disso, as classes de saída também precisarão ser ajustadas para corresponder ao nosso problema de classificação."
   ]
  },
  {
   "cell_type": "markdown",
   "id": "7f666f84",
   "metadata": {},
   "source": [
    "```mermaid\n",
    "graph LR   \n",
    "    subgraph Classifier_Block [Classifier Block]\n",
    "        direction LR\n",
    "        cb0[\"Layer: Linear<br/>In Feat: 25088, Out Feat: 256<br/>Activator: Leaky ReLU\"]\n",
    "        cb2[\"Layer: Linear<br/>In Feat: 256, Out Feat: 64<br/>Activator: Leaky ReLU\"]\n",
    "        cb4[\"Layer: Linear<br/>In Feat: 64, Out Feat: 10\"]\n",
    "\n",
    "        cb0  --> cb2 --> cb4\n",
    "    end\n",
    "```"
   ]
  },
  {
   "cell_type": "markdown",
   "id": "1e262d34",
   "metadata": {},
   "source": [
    "### Ajustar dataset Resize 244 x 244"
   ]
  },
  {
   "cell_type": "code",
   "execution_count": 24,
   "id": "17e34ef9",
   "metadata": {},
   "outputs": [],
   "source": [
    "dataset = CIFAR10Dataset(root=root, resize=(244, 244))\n",
    "train_dataloader = dataset.get_dataloader(dataset_type=\"train\", num_workers=num_workers)\n",
    "val_dataloader = dataset.get_dataloader(dataset_type=\"val\", num_workers=num_workers)\n",
    "test_dataloader = dataset.get_dataloader(dataset_type=\"val\", num_workers=num_workers)"
   ]
  },
  {
   "cell_type": "markdown",
   "id": "4d5a7df4",
   "metadata": {},
   "source": [
    "### Requisição de Modelo"
   ]
  },
  {
   "cell_type": "code",
   "execution_count": 25,
   "id": "bf7b6f6c",
   "metadata": {},
   "outputs": [],
   "source": [
    "model_vgg = vgg16(weights=VGG16_Weights.DEFAULT, progress=True)\n",
    "\n",
    "for param in model_vgg.parameters():\n",
    "    param.requires_grad = False\n",
    "    \n",
    "in_features = cast(int, model_vgg.classifier[0].in_features) "
   ]
  },
  {
   "cell_type": "markdown",
   "id": "e2b010f4",
   "metadata": {},
   "source": [
    "### Classifier Costumizado"
   ]
  },
  {
   "cell_type": "code",
   "execution_count": 26,
   "id": "d5826bc7",
   "metadata": {},
   "outputs": [],
   "source": [
    "custom_classifier = nn.Sequential(\n",
    "    nn.Flatten(),\n",
    "    nn.Linear(in_features, 128),\n",
    "    nn.LeakyReLU(),\n",
    "    nn.Linear(128, 64),\n",
    "    nn.LeakyReLU(),\n",
    "    nn.Linear(64, 10)\n",
    ")\n",
    "model_vgg.classifier = custom_classifier\n",
    "\n",
    "light_vgg_model = LightModel(model=model_vgg)"
   ]
  },
  {
   "cell_type": "code",
   "execution_count": 27,
   "id": "055e497c",
   "metadata": {},
   "outputs": [
    {
     "name": "stderr",
     "output_type": "stream",
     "text": [
      "Using default `ModelCheckpoint`. Consider installing `litmodels` package to enable `LitModelCheckpoint` for automatic upload to the Lightning model registry.\n",
      "GPU available: True (cuda), used: True\n",
      "TPU available: False, using: 0 TPU cores\n",
      "HPU available: False, using: 0 HPUs\n",
      "LOCAL_RANK: 0 - CUDA_VISIBLE_DEVICES: [0]\n",
      "\n",
      "  | Name  | Type | Params | Mode \n",
      "---------------------------------------\n",
      "0 | model | VGG  | 17.9 M | train\n",
      "---------------------------------------\n",
      "3.2 M     Trainable params\n",
      "14.7 M    Non-trainable params\n",
      "17.9 M    Total params\n",
      "71.740    Total estimated model params size (MB)\n",
      "41        Modules in train mode\n",
      "0         Modules in eval mode\n"
     ]
    },
    {
     "name": "stdout",
     "output_type": "stream",
     "text": [
      "\n",
      "--- Training VGG16 with custom classifier ---\n",
      "\n",
      "Epoch 0:   0%|          | 2/625 [00:48<4:11:40,  0.04it/s, v_num=61, train_loss_step=2.260]"
     ]
    },
    {
     "ename": "RuntimeError",
     "evalue": "Caught RuntimeError in pin memory thread for device 0.\nOriginal Traceback (most recent call last):\n  File \"c:\\Dev\\Coding\\personal\\Curso\\ML\\ENE0082\\Trabalhos\\Trabaho 3\\.venv\\Lib\\site-packages\\torch\\utils\\data\\_utils\\pin_memory.py\", line 43, in do_one_step\n    data = pin_memory(data, device)\n  File \"c:\\Dev\\Coding\\personal\\Curso\\ML\\ENE0082\\Trabalhos\\Trabaho 3\\.venv\\Lib\\site-packages\\torch\\utils\\data\\_utils\\pin_memory.py\", line 100, in pin_memory\n    clone[i] = pin_memory(item, device)\n               ~~~~~~~~~~^^^^^^^^^^^^^^\n  File \"c:\\Dev\\Coding\\personal\\Curso\\ML\\ENE0082\\Trabalhos\\Trabaho 3\\.venv\\Lib\\site-packages\\torch\\utils\\data\\_utils\\pin_memory.py\", line 66, in pin_memory\n    return data.pin_memory(device)\n           ~~~~~~~~~~~~~~~^^^^^^^^\nRuntimeError: CUDA error: out of memory\nCUDA kernel errors might be asynchronously reported at some other API call, so the stacktrace below might be incorrect.\nFor debugging consider passing CUDA_LAUNCH_BLOCKING=1\nCompile with `TORCH_USE_CUDA_DSA` to enable device-side assertions.\n\n",
     "output_type": "error",
     "traceback": [
      "\u001b[31m---------------------------------------------------------------------------\u001b[39m",
      "\u001b[31mRuntimeError\u001b[39m                              Traceback (most recent call last)",
      "\u001b[36mCell\u001b[39m\u001b[36m \u001b[39m\u001b[32mIn[27]\u001b[39m\u001b[32m, line 11\u001b[39m\n\u001b[32m      7\u001b[39m trainer = Trainer(\n\u001b[32m      8\u001b[39m     callbacks=[early_stopping], max_epochs=\u001b[32m50\u001b[39m, accelerator=device_type, devices=\u001b[32m1\u001b[39m\n\u001b[32m      9\u001b[39m )\n\u001b[32m     10\u001b[39m \u001b[38;5;28mprint\u001b[39m(\u001b[33m\"\u001b[39m\u001b[38;5;130;01m\\n\u001b[39;00m\u001b[33m--- Training VGG16 with custom classifier ---\u001b[39m\u001b[38;5;130;01m\\n\u001b[39;00m\u001b[33m\"\u001b[39m)\n\u001b[32m---> \u001b[39m\u001b[32m11\u001b[39m \u001b[43mtrainer\u001b[49m\u001b[43m.\u001b[49m\u001b[43mfit\u001b[49m\u001b[43m(\u001b[49m\n\u001b[32m     12\u001b[39m \u001b[43m    \u001b[49m\u001b[43mmodel\u001b[49m\u001b[43m=\u001b[49m\u001b[43mlight_vgg_model\u001b[49m\u001b[43m,\u001b[49m\u001b[43m \u001b[49m\u001b[43mtrain_dataloaders\u001b[49m\u001b[43m=\u001b[49m\u001b[43mtrain_dataloader\u001b[49m\u001b[43m,\u001b[49m\u001b[43m \u001b[49m\u001b[43mval_dataloaders\u001b[49m\u001b[43m=\u001b[49m\u001b[43mval_dataloader\u001b[49m\n\u001b[32m     13\u001b[39m \u001b[43m)\u001b[49m\n",
      "\u001b[36mFile \u001b[39m\u001b[32mc:\\Dev\\Coding\\personal\\Curso\\ML\\ENE0082\\Trabalhos\\Trabaho 3\\.venv\\Lib\\site-packages\\pytorch_lightning\\trainer\\trainer.py:561\u001b[39m, in \u001b[36mTrainer.fit\u001b[39m\u001b[34m(self, model, train_dataloaders, val_dataloaders, datamodule, ckpt_path)\u001b[39m\n\u001b[32m    559\u001b[39m \u001b[38;5;28mself\u001b[39m.training = \u001b[38;5;28;01mTrue\u001b[39;00m\n\u001b[32m    560\u001b[39m \u001b[38;5;28mself\u001b[39m.should_stop = \u001b[38;5;28;01mFalse\u001b[39;00m\n\u001b[32m--> \u001b[39m\u001b[32m561\u001b[39m \u001b[43mcall\u001b[49m\u001b[43m.\u001b[49m\u001b[43m_call_and_handle_interrupt\u001b[49m\u001b[43m(\u001b[49m\n\u001b[32m    562\u001b[39m \u001b[43m    \u001b[49m\u001b[38;5;28;43mself\u001b[39;49m\u001b[43m,\u001b[49m\u001b[43m \u001b[49m\u001b[38;5;28;43mself\u001b[39;49m\u001b[43m.\u001b[49m\u001b[43m_fit_impl\u001b[49m\u001b[43m,\u001b[49m\u001b[43m \u001b[49m\u001b[43mmodel\u001b[49m\u001b[43m,\u001b[49m\u001b[43m \u001b[49m\u001b[43mtrain_dataloaders\u001b[49m\u001b[43m,\u001b[49m\u001b[43m \u001b[49m\u001b[43mval_dataloaders\u001b[49m\u001b[43m,\u001b[49m\u001b[43m \u001b[49m\u001b[43mdatamodule\u001b[49m\u001b[43m,\u001b[49m\u001b[43m \u001b[49m\u001b[43mckpt_path\u001b[49m\n\u001b[32m    563\u001b[39m \u001b[43m\u001b[49m\u001b[43m)\u001b[49m\n",
      "\u001b[36mFile \u001b[39m\u001b[32mc:\\Dev\\Coding\\personal\\Curso\\ML\\ENE0082\\Trabalhos\\Trabaho 3\\.venv\\Lib\\site-packages\\pytorch_lightning\\trainer\\call.py:48\u001b[39m, in \u001b[36m_call_and_handle_interrupt\u001b[39m\u001b[34m(trainer, trainer_fn, *args, **kwargs)\u001b[39m\n\u001b[32m     46\u001b[39m     \u001b[38;5;28;01mif\u001b[39;00m trainer.strategy.launcher \u001b[38;5;129;01mis\u001b[39;00m \u001b[38;5;129;01mnot\u001b[39;00m \u001b[38;5;28;01mNone\u001b[39;00m:\n\u001b[32m     47\u001b[39m         \u001b[38;5;28;01mreturn\u001b[39;00m trainer.strategy.launcher.launch(trainer_fn, *args, trainer=trainer, **kwargs)\n\u001b[32m---> \u001b[39m\u001b[32m48\u001b[39m     \u001b[38;5;28;01mreturn\u001b[39;00m \u001b[43mtrainer_fn\u001b[49m\u001b[43m(\u001b[49m\u001b[43m*\u001b[49m\u001b[43margs\u001b[49m\u001b[43m,\u001b[49m\u001b[43m \u001b[49m\u001b[43m*\u001b[49m\u001b[43m*\u001b[49m\u001b[43mkwargs\u001b[49m\u001b[43m)\u001b[49m\n\u001b[32m     50\u001b[39m \u001b[38;5;28;01mexcept\u001b[39;00m _TunerExitException:\n\u001b[32m     51\u001b[39m     _call_teardown_hook(trainer)\n",
      "\u001b[36mFile \u001b[39m\u001b[32mc:\\Dev\\Coding\\personal\\Curso\\ML\\ENE0082\\Trabalhos\\Trabaho 3\\.venv\\Lib\\site-packages\\pytorch_lightning\\trainer\\trainer.py:599\u001b[39m, in \u001b[36mTrainer._fit_impl\u001b[39m\u001b[34m(self, model, train_dataloaders, val_dataloaders, datamodule, ckpt_path)\u001b[39m\n\u001b[32m    592\u001b[39m     download_model_from_registry(ckpt_path, \u001b[38;5;28mself\u001b[39m)\n\u001b[32m    593\u001b[39m ckpt_path = \u001b[38;5;28mself\u001b[39m._checkpoint_connector._select_ckpt_path(\n\u001b[32m    594\u001b[39m     \u001b[38;5;28mself\u001b[39m.state.fn,\n\u001b[32m    595\u001b[39m     ckpt_path,\n\u001b[32m    596\u001b[39m     model_provided=\u001b[38;5;28;01mTrue\u001b[39;00m,\n\u001b[32m    597\u001b[39m     model_connected=\u001b[38;5;28mself\u001b[39m.lightning_module \u001b[38;5;129;01mis\u001b[39;00m \u001b[38;5;129;01mnot\u001b[39;00m \u001b[38;5;28;01mNone\u001b[39;00m,\n\u001b[32m    598\u001b[39m )\n\u001b[32m--> \u001b[39m\u001b[32m599\u001b[39m \u001b[38;5;28;43mself\u001b[39;49m\u001b[43m.\u001b[49m\u001b[43m_run\u001b[49m\u001b[43m(\u001b[49m\u001b[43mmodel\u001b[49m\u001b[43m,\u001b[49m\u001b[43m \u001b[49m\u001b[43mckpt_path\u001b[49m\u001b[43m=\u001b[49m\u001b[43mckpt_path\u001b[49m\u001b[43m)\u001b[49m\n\u001b[32m    601\u001b[39m \u001b[38;5;28;01massert\u001b[39;00m \u001b[38;5;28mself\u001b[39m.state.stopped\n\u001b[32m    602\u001b[39m \u001b[38;5;28mself\u001b[39m.training = \u001b[38;5;28;01mFalse\u001b[39;00m\n",
      "\u001b[36mFile \u001b[39m\u001b[32mc:\\Dev\\Coding\\personal\\Curso\\ML\\ENE0082\\Trabalhos\\Trabaho 3\\.venv\\Lib\\site-packages\\pytorch_lightning\\trainer\\trainer.py:1012\u001b[39m, in \u001b[36mTrainer._run\u001b[39m\u001b[34m(self, model, ckpt_path)\u001b[39m\n\u001b[32m   1007\u001b[39m \u001b[38;5;28mself\u001b[39m._signal_connector.register_signal_handlers()\n\u001b[32m   1009\u001b[39m \u001b[38;5;66;03m# ----------------------------\u001b[39;00m\n\u001b[32m   1010\u001b[39m \u001b[38;5;66;03m# RUN THE TRAINER\u001b[39;00m\n\u001b[32m   1011\u001b[39m \u001b[38;5;66;03m# ----------------------------\u001b[39;00m\n\u001b[32m-> \u001b[39m\u001b[32m1012\u001b[39m results = \u001b[38;5;28;43mself\u001b[39;49m\u001b[43m.\u001b[49m\u001b[43m_run_stage\u001b[49m\u001b[43m(\u001b[49m\u001b[43m)\u001b[49m\n\u001b[32m   1014\u001b[39m \u001b[38;5;66;03m# ----------------------------\u001b[39;00m\n\u001b[32m   1015\u001b[39m \u001b[38;5;66;03m# POST-Training CLEAN UP\u001b[39;00m\n\u001b[32m   1016\u001b[39m \u001b[38;5;66;03m# ----------------------------\u001b[39;00m\n\u001b[32m   1017\u001b[39m log.debug(\u001b[33mf\u001b[39m\u001b[33m\"\u001b[39m\u001b[38;5;132;01m{\u001b[39;00m\u001b[38;5;28mself\u001b[39m.\u001b[34m__class__\u001b[39m.\u001b[34m__name__\u001b[39m\u001b[38;5;132;01m}\u001b[39;00m\u001b[33m: trainer tearing down\u001b[39m\u001b[33m\"\u001b[39m)\n",
      "\u001b[36mFile \u001b[39m\u001b[32mc:\\Dev\\Coding\\personal\\Curso\\ML\\ENE0082\\Trabalhos\\Trabaho 3\\.venv\\Lib\\site-packages\\pytorch_lightning\\trainer\\trainer.py:1056\u001b[39m, in \u001b[36mTrainer._run_stage\u001b[39m\u001b[34m(self)\u001b[39m\n\u001b[32m   1054\u001b[39m         \u001b[38;5;28mself\u001b[39m._run_sanity_check()\n\u001b[32m   1055\u001b[39m     \u001b[38;5;28;01mwith\u001b[39;00m torch.autograd.set_detect_anomaly(\u001b[38;5;28mself\u001b[39m._detect_anomaly):\n\u001b[32m-> \u001b[39m\u001b[32m1056\u001b[39m         \u001b[38;5;28;43mself\u001b[39;49m\u001b[43m.\u001b[49m\u001b[43mfit_loop\u001b[49m\u001b[43m.\u001b[49m\u001b[43mrun\u001b[49m\u001b[43m(\u001b[49m\u001b[43m)\u001b[49m\n\u001b[32m   1057\u001b[39m     \u001b[38;5;28;01mreturn\u001b[39;00m \u001b[38;5;28;01mNone\u001b[39;00m\n\u001b[32m   1058\u001b[39m \u001b[38;5;28;01mraise\u001b[39;00m \u001b[38;5;167;01mRuntimeError\u001b[39;00m(\u001b[33mf\u001b[39m\u001b[33m\"\u001b[39m\u001b[33mUnexpected state \u001b[39m\u001b[38;5;132;01m{\u001b[39;00m\u001b[38;5;28mself\u001b[39m.state\u001b[38;5;132;01m}\u001b[39;00m\u001b[33m\"\u001b[39m)\n",
      "\u001b[36mFile \u001b[39m\u001b[32mc:\\Dev\\Coding\\personal\\Curso\\ML\\ENE0082\\Trabalhos\\Trabaho 3\\.venv\\Lib\\site-packages\\pytorch_lightning\\loops\\fit_loop.py:216\u001b[39m, in \u001b[36m_FitLoop.run\u001b[39m\u001b[34m(self)\u001b[39m\n\u001b[32m    214\u001b[39m \u001b[38;5;28;01mtry\u001b[39;00m:\n\u001b[32m    215\u001b[39m     \u001b[38;5;28mself\u001b[39m.on_advance_start()\n\u001b[32m--> \u001b[39m\u001b[32m216\u001b[39m     \u001b[38;5;28;43mself\u001b[39;49m\u001b[43m.\u001b[49m\u001b[43madvance\u001b[49m\u001b[43m(\u001b[49m\u001b[43m)\u001b[49m\n\u001b[32m    217\u001b[39m     \u001b[38;5;28mself\u001b[39m.on_advance_end()\n\u001b[32m    218\u001b[39m \u001b[38;5;28;01mexcept\u001b[39;00m \u001b[38;5;167;01mStopIteration\u001b[39;00m:\n",
      "\u001b[36mFile \u001b[39m\u001b[32mc:\\Dev\\Coding\\personal\\Curso\\ML\\ENE0082\\Trabalhos\\Trabaho 3\\.venv\\Lib\\site-packages\\pytorch_lightning\\loops\\fit_loop.py:455\u001b[39m, in \u001b[36m_FitLoop.advance\u001b[39m\u001b[34m(self)\u001b[39m\n\u001b[32m    453\u001b[39m \u001b[38;5;28;01mwith\u001b[39;00m \u001b[38;5;28mself\u001b[39m.trainer.profiler.profile(\u001b[33m\"\u001b[39m\u001b[33mrun_training_epoch\u001b[39m\u001b[33m\"\u001b[39m):\n\u001b[32m    454\u001b[39m     \u001b[38;5;28;01massert\u001b[39;00m \u001b[38;5;28mself\u001b[39m._data_fetcher \u001b[38;5;129;01mis\u001b[39;00m \u001b[38;5;129;01mnot\u001b[39;00m \u001b[38;5;28;01mNone\u001b[39;00m\n\u001b[32m--> \u001b[39m\u001b[32m455\u001b[39m     \u001b[38;5;28;43mself\u001b[39;49m\u001b[43m.\u001b[49m\u001b[43mepoch_loop\u001b[49m\u001b[43m.\u001b[49m\u001b[43mrun\u001b[49m\u001b[43m(\u001b[49m\u001b[38;5;28;43mself\u001b[39;49m\u001b[43m.\u001b[49m\u001b[43m_data_fetcher\u001b[49m\u001b[43m)\u001b[49m\n",
      "\u001b[36mFile \u001b[39m\u001b[32mc:\\Dev\\Coding\\personal\\Curso\\ML\\ENE0082\\Trabalhos\\Trabaho 3\\.venv\\Lib\\site-packages\\pytorch_lightning\\loops\\training_epoch_loop.py:150\u001b[39m, in \u001b[36m_TrainingEpochLoop.run\u001b[39m\u001b[34m(self, data_fetcher)\u001b[39m\n\u001b[32m    148\u001b[39m \u001b[38;5;28;01mwhile\u001b[39;00m \u001b[38;5;129;01mnot\u001b[39;00m \u001b[38;5;28mself\u001b[39m.done:\n\u001b[32m    149\u001b[39m     \u001b[38;5;28;01mtry\u001b[39;00m:\n\u001b[32m--> \u001b[39m\u001b[32m150\u001b[39m         \u001b[38;5;28;43mself\u001b[39;49m\u001b[43m.\u001b[49m\u001b[43madvance\u001b[49m\u001b[43m(\u001b[49m\u001b[43mdata_fetcher\u001b[49m\u001b[43m)\u001b[49m\n\u001b[32m    151\u001b[39m         \u001b[38;5;28mself\u001b[39m.on_advance_end(data_fetcher)\n\u001b[32m    152\u001b[39m     \u001b[38;5;28;01mexcept\u001b[39;00m \u001b[38;5;167;01mStopIteration\u001b[39;00m:\n",
      "\u001b[36mFile \u001b[39m\u001b[32mc:\\Dev\\Coding\\personal\\Curso\\ML\\ENE0082\\Trabalhos\\Trabaho 3\\.venv\\Lib\\site-packages\\pytorch_lightning\\loops\\training_epoch_loop.py:282\u001b[39m, in \u001b[36m_TrainingEpochLoop.advance\u001b[39m\u001b[34m(self, data_fetcher)\u001b[39m\n\u001b[32m    280\u001b[39m \u001b[38;5;28;01melse\u001b[39;00m:\n\u001b[32m    281\u001b[39m     dataloader_iter = \u001b[38;5;28;01mNone\u001b[39;00m\n\u001b[32m--> \u001b[39m\u001b[32m282\u001b[39m     batch, _, __ = \u001b[38;5;28;43mnext\u001b[39;49m\u001b[43m(\u001b[49m\u001b[43mdata_fetcher\u001b[49m\u001b[43m)\u001b[49m\n\u001b[32m    283\u001b[39m     \u001b[38;5;66;03m# TODO: we should instead use the batch_idx returned by the fetcher, however, that will require saving the\u001b[39;00m\n\u001b[32m    284\u001b[39m     \u001b[38;5;66;03m# fetcher state so that the batch_idx is correct after restarting\u001b[39;00m\n\u001b[32m    285\u001b[39m     batch_idx = \u001b[38;5;28mself\u001b[39m.batch_idx + \u001b[32m1\u001b[39m\n",
      "\u001b[36mFile \u001b[39m\u001b[32mc:\\Dev\\Coding\\personal\\Curso\\ML\\ENE0082\\Trabalhos\\Trabaho 3\\.venv\\Lib\\site-packages\\pytorch_lightning\\loops\\fetchers.py:134\u001b[39m, in \u001b[36m_PrefetchDataFetcher.__next__\u001b[39m\u001b[34m(self)\u001b[39m\n\u001b[32m    131\u001b[39m         \u001b[38;5;28mself\u001b[39m.done = \u001b[38;5;129;01mnot\u001b[39;00m \u001b[38;5;28mself\u001b[39m.batches\n\u001b[32m    132\u001b[39m \u001b[38;5;28;01melif\u001b[39;00m \u001b[38;5;129;01mnot\u001b[39;00m \u001b[38;5;28mself\u001b[39m.done:\n\u001b[32m    133\u001b[39m     \u001b[38;5;66;03m# this will run only when no pre-fetching was done.\u001b[39;00m\n\u001b[32m--> \u001b[39m\u001b[32m134\u001b[39m     batch = \u001b[38;5;28;43msuper\u001b[39;49m\u001b[43m(\u001b[49m\u001b[43m)\u001b[49m\u001b[43m.\u001b[49m\u001b[34;43m__next__\u001b[39;49m\u001b[43m(\u001b[49m\u001b[43m)\u001b[49m\n\u001b[32m    135\u001b[39m \u001b[38;5;28;01melse\u001b[39;00m:\n\u001b[32m    136\u001b[39m     \u001b[38;5;66;03m# the iterator is empty\u001b[39;00m\n\u001b[32m    137\u001b[39m     \u001b[38;5;28;01mraise\u001b[39;00m \u001b[38;5;167;01mStopIteration\u001b[39;00m\n",
      "\u001b[36mFile \u001b[39m\u001b[32mc:\\Dev\\Coding\\personal\\Curso\\ML\\ENE0082\\Trabalhos\\Trabaho 3\\.venv\\Lib\\site-packages\\pytorch_lightning\\loops\\fetchers.py:61\u001b[39m, in \u001b[36m_DataFetcher.__next__\u001b[39m\u001b[34m(self)\u001b[39m\n\u001b[32m     59\u001b[39m \u001b[38;5;28mself\u001b[39m._start_profiler()\n\u001b[32m     60\u001b[39m \u001b[38;5;28;01mtry\u001b[39;00m:\n\u001b[32m---> \u001b[39m\u001b[32m61\u001b[39m     batch = \u001b[38;5;28;43mnext\u001b[39;49m\u001b[43m(\u001b[49m\u001b[38;5;28;43mself\u001b[39;49m\u001b[43m.\u001b[49m\u001b[43miterator\u001b[49m\u001b[43m)\u001b[49m\n\u001b[32m     62\u001b[39m \u001b[38;5;28;01mexcept\u001b[39;00m \u001b[38;5;167;01mStopIteration\u001b[39;00m:\n\u001b[32m     63\u001b[39m     \u001b[38;5;28mself\u001b[39m.done = \u001b[38;5;28;01mTrue\u001b[39;00m\n",
      "\u001b[36mFile \u001b[39m\u001b[32mc:\\Dev\\Coding\\personal\\Curso\\ML\\ENE0082\\Trabalhos\\Trabaho 3\\.venv\\Lib\\site-packages\\pytorch_lightning\\utilities\\combined_loader.py:341\u001b[39m, in \u001b[36mCombinedLoader.__next__\u001b[39m\u001b[34m(self)\u001b[39m\n\u001b[32m    339\u001b[39m \u001b[38;5;28;01mdef\u001b[39;00m\u001b[38;5;250m \u001b[39m\u001b[34m__next__\u001b[39m(\u001b[38;5;28mself\u001b[39m) -> _ITERATOR_RETURN:\n\u001b[32m    340\u001b[39m     \u001b[38;5;28;01massert\u001b[39;00m \u001b[38;5;28mself\u001b[39m._iterator \u001b[38;5;129;01mis\u001b[39;00m \u001b[38;5;129;01mnot\u001b[39;00m \u001b[38;5;28;01mNone\u001b[39;00m\n\u001b[32m--> \u001b[39m\u001b[32m341\u001b[39m     out = \u001b[38;5;28;43mnext\u001b[39;49m\u001b[43m(\u001b[49m\u001b[38;5;28;43mself\u001b[39;49m\u001b[43m.\u001b[49m\u001b[43m_iterator\u001b[49m\u001b[43m)\u001b[49m\n\u001b[32m    342\u001b[39m     \u001b[38;5;28;01mif\u001b[39;00m \u001b[38;5;28misinstance\u001b[39m(\u001b[38;5;28mself\u001b[39m._iterator, _Sequential):\n\u001b[32m    343\u001b[39m         \u001b[38;5;28;01mreturn\u001b[39;00m out\n",
      "\u001b[36mFile \u001b[39m\u001b[32mc:\\Dev\\Coding\\personal\\Curso\\ML\\ENE0082\\Trabalhos\\Trabaho 3\\.venv\\Lib\\site-packages\\pytorch_lightning\\utilities\\combined_loader.py:78\u001b[39m, in \u001b[36m_MaxSizeCycle.__next__\u001b[39m\u001b[34m(self)\u001b[39m\n\u001b[32m     76\u001b[39m \u001b[38;5;28;01mfor\u001b[39;00m i \u001b[38;5;129;01min\u001b[39;00m \u001b[38;5;28mrange\u001b[39m(n):\n\u001b[32m     77\u001b[39m     \u001b[38;5;28;01mtry\u001b[39;00m:\n\u001b[32m---> \u001b[39m\u001b[32m78\u001b[39m         out[i] = \u001b[38;5;28;43mnext\u001b[39;49m\u001b[43m(\u001b[49m\u001b[38;5;28;43mself\u001b[39;49m\u001b[43m.\u001b[49m\u001b[43miterators\u001b[49m\u001b[43m[\u001b[49m\u001b[43mi\u001b[49m\u001b[43m]\u001b[49m\u001b[43m)\u001b[49m\n\u001b[32m     79\u001b[39m     \u001b[38;5;28;01mexcept\u001b[39;00m \u001b[38;5;167;01mStopIteration\u001b[39;00m:\n\u001b[32m     80\u001b[39m         \u001b[38;5;28mself\u001b[39m._consumed[i] = \u001b[38;5;28;01mTrue\u001b[39;00m\n",
      "\u001b[36mFile \u001b[39m\u001b[32mc:\\Dev\\Coding\\personal\\Curso\\ML\\ENE0082\\Trabalhos\\Trabaho 3\\.venv\\Lib\\site-packages\\torch\\utils\\data\\dataloader.py:733\u001b[39m, in \u001b[36m_BaseDataLoaderIter.__next__\u001b[39m\u001b[34m(self)\u001b[39m\n\u001b[32m    730\u001b[39m \u001b[38;5;28;01mif\u001b[39;00m \u001b[38;5;28mself\u001b[39m._sampler_iter \u001b[38;5;129;01mis\u001b[39;00m \u001b[38;5;28;01mNone\u001b[39;00m:\n\u001b[32m    731\u001b[39m     \u001b[38;5;66;03m# TODO(https://github.com/pytorch/pytorch/issues/76750)\u001b[39;00m\n\u001b[32m    732\u001b[39m     \u001b[38;5;28mself\u001b[39m._reset()  \u001b[38;5;66;03m# type: ignore[call-arg]\u001b[39;00m\n\u001b[32m--> \u001b[39m\u001b[32m733\u001b[39m data = \u001b[38;5;28;43mself\u001b[39;49m\u001b[43m.\u001b[49m\u001b[43m_next_data\u001b[49m\u001b[43m(\u001b[49m\u001b[43m)\u001b[49m\n\u001b[32m    734\u001b[39m \u001b[38;5;28mself\u001b[39m._num_yielded += \u001b[32m1\u001b[39m\n\u001b[32m    735\u001b[39m \u001b[38;5;28;01mif\u001b[39;00m (\n\u001b[32m    736\u001b[39m     \u001b[38;5;28mself\u001b[39m._dataset_kind == _DatasetKind.Iterable\n\u001b[32m    737\u001b[39m     \u001b[38;5;129;01mand\u001b[39;00m \u001b[38;5;28mself\u001b[39m._IterableDataset_len_called \u001b[38;5;129;01mis\u001b[39;00m \u001b[38;5;129;01mnot\u001b[39;00m \u001b[38;5;28;01mNone\u001b[39;00m\n\u001b[32m    738\u001b[39m     \u001b[38;5;129;01mand\u001b[39;00m \u001b[38;5;28mself\u001b[39m._num_yielded > \u001b[38;5;28mself\u001b[39m._IterableDataset_len_called\n\u001b[32m    739\u001b[39m ):\n",
      "\u001b[36mFile \u001b[39m\u001b[32mc:\\Dev\\Coding\\personal\\Curso\\ML\\ENE0082\\Trabalhos\\Trabaho 3\\.venv\\Lib\\site-packages\\torch\\utils\\data\\dataloader.py:1515\u001b[39m, in \u001b[36m_MultiProcessingDataLoaderIter._next_data\u001b[39m\u001b[34m(self)\u001b[39m\n\u001b[32m   1513\u001b[39m worker_id = \u001b[38;5;28mself\u001b[39m._task_info.pop(idx)[\u001b[32m0\u001b[39m]\n\u001b[32m   1514\u001b[39m \u001b[38;5;28mself\u001b[39m._rcvd_idx += \u001b[32m1\u001b[39m\n\u001b[32m-> \u001b[39m\u001b[32m1515\u001b[39m \u001b[38;5;28;01mreturn\u001b[39;00m \u001b[38;5;28;43mself\u001b[39;49m\u001b[43m.\u001b[49m\u001b[43m_process_data\u001b[49m\u001b[43m(\u001b[49m\u001b[43mdata\u001b[49m\u001b[43m,\u001b[49m\u001b[43m \u001b[49m\u001b[43mworker_id\u001b[49m\u001b[43m)\u001b[49m\n",
      "\u001b[36mFile \u001b[39m\u001b[32mc:\\Dev\\Coding\\personal\\Curso\\ML\\ENE0082\\Trabalhos\\Trabaho 3\\.venv\\Lib\\site-packages\\torch\\utils\\data\\dataloader.py:1550\u001b[39m, in \u001b[36m_MultiProcessingDataLoaderIter._process_data\u001b[39m\u001b[34m(self, data, worker_idx)\u001b[39m\n\u001b[32m   1548\u001b[39m \u001b[38;5;28mself\u001b[39m._try_put_index()\n\u001b[32m   1549\u001b[39m \u001b[38;5;28;01mif\u001b[39;00m \u001b[38;5;28misinstance\u001b[39m(data, ExceptionWrapper):\n\u001b[32m-> \u001b[39m\u001b[32m1550\u001b[39m     \u001b[43mdata\u001b[49m\u001b[43m.\u001b[49m\u001b[43mreraise\u001b[49m\u001b[43m(\u001b[49m\u001b[43m)\u001b[49m\n\u001b[32m   1551\u001b[39m \u001b[38;5;28;01mreturn\u001b[39;00m data\n",
      "\u001b[36mFile \u001b[39m\u001b[32mc:\\Dev\\Coding\\personal\\Curso\\ML\\ENE0082\\Trabalhos\\Trabaho 3\\.venv\\Lib\\site-packages\\torch\\_utils.py:750\u001b[39m, in \u001b[36mExceptionWrapper.reraise\u001b[39m\u001b[34m(self)\u001b[39m\n\u001b[32m    746\u001b[39m \u001b[38;5;28;01mexcept\u001b[39;00m \u001b[38;5;167;01mException\u001b[39;00m:\n\u001b[32m    747\u001b[39m     \u001b[38;5;66;03m# If the exception takes multiple arguments or otherwise can't\u001b[39;00m\n\u001b[32m    748\u001b[39m     \u001b[38;5;66;03m# be constructed, don't try to instantiate since we don't know how to\u001b[39;00m\n\u001b[32m    749\u001b[39m     \u001b[38;5;28;01mraise\u001b[39;00m \u001b[38;5;167;01mRuntimeError\u001b[39;00m(msg) \u001b[38;5;28;01mfrom\u001b[39;00m\u001b[38;5;250m \u001b[39m\u001b[38;5;28;01mNone\u001b[39;00m\n\u001b[32m--> \u001b[39m\u001b[32m750\u001b[39m \u001b[38;5;28;01mraise\u001b[39;00m exception\n",
      "\u001b[31mRuntimeError\u001b[39m: Caught RuntimeError in pin memory thread for device 0.\nOriginal Traceback (most recent call last):\n  File \"c:\\Dev\\Coding\\personal\\Curso\\ML\\ENE0082\\Trabalhos\\Trabaho 3\\.venv\\Lib\\site-packages\\torch\\utils\\data\\_utils\\pin_memory.py\", line 43, in do_one_step\n    data = pin_memory(data, device)\n  File \"c:\\Dev\\Coding\\personal\\Curso\\ML\\ENE0082\\Trabalhos\\Trabaho 3\\.venv\\Lib\\site-packages\\torch\\utils\\data\\_utils\\pin_memory.py\", line 100, in pin_memory\n    clone[i] = pin_memory(item, device)\n               ~~~~~~~~~~^^^^^^^^^^^^^^\n  File \"c:\\Dev\\Coding\\personal\\Curso\\ML\\ENE0082\\Trabalhos\\Trabaho 3\\.venv\\Lib\\site-packages\\torch\\utils\\data\\_utils\\pin_memory.py\", line 66, in pin_memory\n    return data.pin_memory(device)\n           ~~~~~~~~~~~~~~~^^^^^^^^\nRuntimeError: CUDA error: out of memory\nCUDA kernel errors might be asynchronously reported at some other API call, so the stacktrace below might be incorrect.\nFor debugging consider passing CUDA_LAUNCH_BLOCKING=1\nCompile with `TORCH_USE_CUDA_DSA` to enable device-side assertions.\n\n"
     ]
    }
   ],
   "source": [
    "early_stopping = EarlyStopping(\n",
    "    monitor=\"val_loss\",\n",
    "    patience=5, \n",
    "    mode=\"min\",\n",
    "    min_delta=0.001,\n",
    ")\n",
    "trainer = Trainer(\n",
    "    callbacks=[early_stopping], max_epochs=50, accelerator=device_type, devices=1\n",
    ")\n",
    "print(\"\\n--- Training VGG16 with custom classifier ---\\n\")\n",
    "trainer.fit(\n",
    "    model=light_vgg_model, train_dataloaders=train_dataloader, val_dataloaders=val_dataloader\n",
    ")"
   ]
  },
  {
   "cell_type": "code",
   "execution_count": null,
   "id": "26cbfc0d",
   "metadata": {},
   "outputs": [],
   "source": [
    "print(\"\\n--- Testing VGG16 with custom classifier ---\\n\")\n",
    "trainer.test(model=light_vgg_model, dataloaders=test_dataloader)"
   ]
  },
  {
   "cell_type": "markdown",
   "id": "0d913b77",
   "metadata": {},
   "source": [
    "**Conclusões sobre o Modelo VGG16**\n",
    "\n",
    "O tempo de treinamento para o modelo VGG16 foi consideravelmente extenso (95 Minutos). A acurácia alcançada foi de 81%, um resultado que pode ser considerado satisfatório.\n",
    "\n",
    "Embora potenciais ajustes nos parâmetros das camadas de entrada e saída da camada classificadora pudessem, em tese, levar a uma acurácia ainda maior, a manutenção de um processo de treinamento tão prolongado é inviável.\n",
    "\n",
    "Dessa forma, a acurácia de 81% é aceita como um resultado adequado para os propósitos deste estudo, considerando o *trade-off* entre desempenho e custo computacional."
   ]
  },
  {
   "cell_type": "markdown",
   "id": "5373d299",
   "metadata": {},
   "source": [
    "## Modelo Inception V3 da Google\n",
    "\n",
    "Nesta etapa, serão aplicadas as mesmas técnicas ao modelo Inception V3.\n",
    "\n",
    "O modelo Inception V3 representa uma escolha adequada para esta aplicação, dada a sua natureza predominantemente convolucional e a simplicidade de sua camada de saída linear. Essas características sugerem uma boa capacidade de generalização para o dataset CIFAR-10, mesmo com uma entrada de complexidade relativamente menor em comparação aos dados de pré-treinamento."
   ]
  },
  {
   "cell_type": "markdown",
   "id": "239808a6",
   "metadata": {},
   "source": [
    "```mermaid\n",
    "graph TD\n",
    "    subgraph Inception3_Model [InceptionV3 Model]\n",
    "        %%direction TD\n",
    "\n",
    "        Input([Input Image:<br/>3 channels])\n",
    "\n",
    "        subgraph Stem_Block [Stem Layers]\n",
    "            %%direction TD\n",
    "            bc1a[\"Conv2d_1a_3x3:<br/>Conv(3, 32, k=3, s=2) + BN + ReLU\"]\n",
    "            bc2a[\"Conv2d_2a_3x3:<br/>Conv(32, 32, k=3, s=1) + BN + ReLU\"]\n",
    "            bc2b[\"Conv2d_2b_3x3:<br/>Conv(32, 64, k=3, s=1, p=1) + BN + ReLU\"]\n",
    "            mp1[\"maxpool1:<br/>MaxPool2d(k=3, s=2, p=0)\"]\n",
    "            bc3b[\"Conv2d_3b_1x1:<br/>Conv(64, 80, k=1, s=1) + BN + ReLU\"]\n",
    "            bc4a[\"Conv2d_4a_3x3:<br/>Conv(80, 192, k=3, s=1) + BN + ReLU\"]\n",
    "            mp2[\"maxpool2:<br/>MaxPool2d(k=3, s=2, p=0)\"]\n",
    "\n",
    "            bc1a --> bc2a --> bc2b --> mp1 --> bc3b --> bc4a --> mp2\n",
    "        end\n",
    "\n",
    "        subgraph Mixed_5b_Block [\"Mixed_5b (InceptionA) Out: 256\"]\n",
    "            direction LR\n",
    "            in_5b(\"Input(192)\")\n",
    "\n",
    "            subgraph Branch1x1_5b [Branch 1x1]\n",
    "                bc1x1_5b[\"branch1x1:<br/>Conv(192, 64, k=1) + BN + ReLU\"]\n",
    "            end\n",
    "\n",
    "            subgraph Branch5x5_5b [Branch 5x5]\n",
    "                b5x5_1_5b[\"branch5x5_1:<br/>Conv(192, 48, k=1) + BN + ReLU\"]\n",
    "                b5x5_2_5b[\"branch5x5_2:<br/>Conv(48, 64, k=5, p=2) + BN + ReLU\"]\n",
    "                b5x5_1_5b --> b5x5_2_5b\n",
    "            end\n",
    "\n",
    "            subgraph Branch3x3dbl_5b [Branch 3x3 Dbl]\n",
    "                b3x3dbl_1_5b[\"branch3x3dbl_1:<br/>Conv(192, 64, k=1) + BN + ReLU\"]\n",
    "                b3x3dbl_2_5b[\"branch3x3dbl_2:<br/>Conv(64, 96, k=3, p=1) + BN + ReLU\"]\n",
    "                b3x3dbl_3_5b[\"branch3x3dbl_3:<br/>Conv(96, 96, k=3, p=1) + BN + ReLU\"]\n",
    "                b3x3dbl_1_5b --> b3x3dbl_2_5b --> b3x3dbl_3_5b\n",
    "            end\n",
    "\n",
    "            subgraph BranchPool_5b [Branch Pool]\n",
    "                mpool_5b(\"AvgPool2d(k=3, s=1, p=1)\")\n",
    "                bp_5b[\"branch_pool:<br/>Conv(192, 32, k=1) + BN + ReLU\"]\n",
    "                mpool_5b --> bp_5b\n",
    "            end\n",
    "\n",
    "            in_5b --\"Input\"--> Branch1x1_5b\n",
    "            in_5b --\"Input\"--> Branch5x5_5b\n",
    "            in_5b --\"Input\"--> Branch3x3dbl_5b\n",
    "            in_5b --\"Input\"--> BranchPool_5b\n",
    "\n",
    "            bc1x1_5b & b5x5_2_5b & b3x3dbl_3_5b & bp_5b --> Concat_5b((Concatenate:<br/>256 channels))\n",
    "        end\n",
    "\n",
    "        subgraph Mixed_5c_Block [\"Mixed_5c (InceptionA) Out: 288\"]\n",
    "            direction LR\n",
    "            in_5c(\"Input(256)\")\n",
    "            subgraph Branch1x1_5c\n",
    "                bc1x1_5c[\"branch1x1:<br/>Conv(256, 64, k=1) + BN + ReLU\"]\n",
    "            end\n",
    "            subgraph Branch5x5_5c\n",
    "                b5x5_1_5c[\"branch5x5_1:<br/>Conv(256, 48, k=1) + BN + ReLU\"]\n",
    "                b5x5_2_5c[\"branch5x5_2:<br/>Conv(48, 64, k=5, p=2) + BN + ReLU\"]\n",
    "                b5x5_1_5c --> b5x5_2_5c\n",
    "            end\n",
    "            subgraph Branch3x3dbl_5c\n",
    "                b3x3dbl_1_5c[\"branch3x3dbl_1:<br/>Conv(256, 64, k=1) + BN + ReLU\"]\n",
    "                b3x3dbl_2_5c[\"branch3x3dbl_2:<br/>Conv(64, 96, k=3, p=1) + BN + ReLU\"]\n",
    "                b3x3dbl_3_5c[\"branch3x3dbl_3:<br/>Conv(96, 96, k=3, p=1) + BN + ReLU\"]\n",
    "                b3x3dbl_1_5c --> b3x3dbl_2_5c --> b3x3dbl_3_5c\n",
    "            end\n",
    "            subgraph BranchPool_5c\n",
    "                mpool_5c(\"AvgPool2d(k=3, s=1, p=1)\")\n",
    "                bp_5c[\"branch_pool:<br/>Conv(256, 64, k=1) + BN + ReLU\"]\n",
    "                mpool_5c --> bp_5c\n",
    "            end\n",
    "            in_5c --\"Input\"--> Branch1x1_5c\n",
    "            in_5c --\"Input\"--> Branch5x5_5c\n",
    "            in_5c --\"Input\"--> Branch3x3dbl_5c\n",
    "            in_5c --\"Input\"--> BranchPool_5c\n",
    "            bc1x1_5c & b5x5_2_5c & b3x3dbl_3_5c & bp_5c --> Concat_5c((Concatenate:<br/>288 channels))\n",
    "        end\n",
    "\n",
    "        subgraph Mixed_5d_Block [\"Mixed_5d (InceptionA) Out: 288\"]\n",
    "            direction LR\n",
    "            in_5d(\"Input(288)\")\n",
    "            subgraph Branch1x1_5d\n",
    "                bc1x1_5d[\"branch1x1:<br/>Conv(288, 64, k=1) + BN + ReLU\"]\n",
    "            end\n",
    "            subgraph Branch5x5_5d\n",
    "                b5x5_1_5d[\"branch5x5_1:<br/>Conv(288, 48, k=1) + BN + ReLU\"]\n",
    "                b5x5_2_5d[\"branch5x5_2:<br/>Conv(48, 64, k=5, p=2) + BN + ReLU\"]\n",
    "                b5x5_1_5d --> b5x5_2_5d\n",
    "            end\n",
    "            subgraph Branch3x3dbl_5d\n",
    "                b3x3dbl_1_5d[\"branch3x3dbl_1:<br/>Conv(288, 64, k=1) + BN + ReLU\"]\n",
    "                b3x3dbl_2_5d[\"branch3x3dbl_2:<br/>Conv(64, 96, k=3, p=1) + BN + ReLU\"]\n",
    "                b3x3dbl_3_5d[\"branch3x3dbl_3:<br/>Conv(96, 96, k=3, p=1) + BN + ReLU\"]\n",
    "                b3x3dbl_1_5d --> b3x3dbl_2_5d --> b3x3dbl_3_5d\n",
    "            end\n",
    "            subgraph BranchPool_5d\n",
    "                mpool_5d(\"AvgPool2d(k=3, s=1, p=1)\")\n",
    "                bp_5d[\"branch_pool:<br/>Conv(288, 64, k=1) + BN + ReLU\"]\n",
    "                mpool_5d --> bp_5d\n",
    "            end\n",
    "            in_5d --\"Input\"--> Branch1x1_5d\n",
    "            in_5d --\"Input\"--> Branch5x5_5d\n",
    "            in_5d --\"Input\"--> Branch3x3dbl_5d\n",
    "            in_5d --\"Input\"--> BranchPool_5d\n",
    "            bc1x1_5d & b5x5_2_5d & b3x3dbl_3_5d & bp_5d --> Concat_5d((Concatenate:<br/>288 channels))\n",
    "        end\n",
    "\n",
    "        subgraph Mixed_6a_Block [\"Mixed_6a (InceptionB) Out: 768\"]\n",
    "            direction LR\n",
    "            in_6a(\"Input(288)\")\n",
    "\n",
    "            subgraph Branch3x3_6a [Branch 3x3]\n",
    "                b3x3_6a[\"branch3x3:<br/>Conv(288, 384, k=3, s=2) + BN + ReLU\"]\n",
    "            end\n",
    "\n",
    "            subgraph Branch3x3dbl_6a [Branch 3x3 Dbl]\n",
    "                b3x3dbl_1_6a[\"branch3x3dbl_1:<br/>Conv(288, 64, k=1) + BN + ReLU\"]\n",
    "                b3x3dbl_2_6a[\"branch3x3dbl_2:<br/>Conv(64, 96, k=3, p=1) + BN + ReLU\"]\n",
    "                b3x3dbl_3_6a[\"branch3x3dbl_3:<br/>Conv(96, 96, k=3, s=2) + BN + ReLU\"]\n",
    "                b3x3dbl_1_6a --> b3x3dbl_2_6a --> b3x3dbl_3_6a\n",
    "            end\n",
    "\n",
    "            subgraph MaxPool_6a [Max Pool]\n",
    "                mpool_6a(\"MaxPool2d(k=3, s=2, p=0)\")\n",
    "            end\n",
    "\n",
    "            in_6a --\"Input\"--> Branch3x3_6a\n",
    "            in_6a --\"Input\"--> Branch3x3dbl_6a\n",
    "            in_6a --\"Input\"--> MaxPool_6a\n",
    "\n",
    "            b3x3_6a & b3x3dbl_3_6a & mpool_6a --> Concat_6a((Concatenate:<br/>768 channels))\n",
    "        end\n",
    "\n",
    "        subgraph Mixed_6b_Block [\"Mixed_6b (InceptionC) Out: 768\"]\n",
    "            direction LR\n",
    "            in_6b(\"Input(768)\")\n",
    "\n",
    "            subgraph Branch1x1_6b [Branch 1x1]\n",
    "                bc1x1_6b[\"branch1x1:<br/>Conv(768, 192, k=1) + BN + ReLU\"]\n",
    "            end\n",
    "\n",
    "            subgraph Branch7x7_6b [Branch 7x7]\n",
    "                b7x7_1_6b[\"branch7x7_1:<br/>Conv(768, 128, k=1) + BN + ReLU\"]\n",
    "                b7x7_2_6b[\"branch7x7_2:<br/>Conv(128, 128, k=1x7, p=0,3) + BN + ReLU\"]\n",
    "                b7x7_3_6b[\"branch7x7_3:<br/>Conv(128, 192, k=7x1, p=3,0) + BN + ReLU\"]\n",
    "                b7x7_1_6b --> b7x7_2_6b --> b7x7_3_6b\n",
    "            end\n",
    "\n",
    "            subgraph Branch7x7dbl_6b [Branch 7x7 Dbl]\n",
    "                b7x7dbl_1_6b[\"branch7x7dbl_1:<br/>Conv(768, 128, k=1) + BN + ReLU\"]\n",
    "                b7x7dbl_2_6b[\"branch7x7dbl_2:<br/>Conv(128, 128, k=7x1, p=3,0) + BN + ReLU\"]\n",
    "                b7x7dbl_3_6b[\"branch7x7dbl_3:<br/>Conv(128, 128, k=1x7, p=0,3) + BN + ReLU\"]\n",
    "                b7x7dbl_4_6b[\"branch7x7dbl_4:<br/>Conv(128, 128, k=7x1, p=3,0) + BN + ReLU\"]\n",
    "                b7x7dbl_5_6b[\"branch7x7dbl_5:<br/>Conv(128, 192, k=1x7, p=0,3) + BN + ReLU\"]\n",
    "                b7x7dbl_1_6b --> b7x7dbl_2_6b --> b7x7dbl_3_6b --> b7x7dbl_4_6b --> b7x7dbl_5_6b\n",
    "            end\n",
    "\n",
    "            subgraph BranchPool_6b [Branch Pool]\n",
    "                mpool_6b(\"AvgPool2d(k=3, s=1, p=1)\")\n",
    "                bp_6b[\"branch_pool:<br/>Conv(768, 192, k=1) + BN + ReLU\"]\n",
    "                mpool_6b --> bp_6b\n",
    "            end\n",
    "\n",
    "            in_6b --\"Input\"--> Branch1x1_6b\n",
    "            in_6b --\"Input\"--> Branch7x7_6b\n",
    "            in_6b --\"Input\"--> Branch7x7dbl_6b\n",
    "            in_6b --\"Input\"--> BranchPool_6b\n",
    "\n",
    "            bc1x1_6b & b7x7_3_6b & b7x7dbl_5_6b & bp_6b --> Concat_6b((Concatenate:<br/>768 channels))\n",
    "        end\n",
    "\n",
    "        subgraph Mixed_6c_Block [\"Mixed_6c (InceptionC) Out: 768\"]\n",
    "            direction LR\n",
    "            in_6c(\"Input(768)\")\n",
    "            subgraph Branch1x1_6c\n",
    "                bc1x1_6c[\"branch1x1:<br/>Conv(768, 192, k=1) + BN + ReLU\"]\n",
    "            end\n",
    "            subgraph Branch7x7_6c\n",
    "                b7x7_1_6c[\"branch7x7_1:<br/>Conv(768, 160, k=1) + BN + ReLU\"]\n",
    "                b7x7_2_6c[\"branch7x7_2:<br/>Conv(160, 160, k=1x7, p=0,3) + BN + ReLU\"]\n",
    "                b7x7_3_6c[\"branch7x7_3:<br/>Conv(160, 192, k=7x1, p=3,0) + BN + ReLU\"]\n",
    "                b7x7_1_6c --> b7x7_2_6c --> b7x7_3_6c\n",
    "            end\n",
    "            subgraph Branch7x7dbl_6c\n",
    "                b7x7dbl_1_6c[\"branch7x7dbl_1:<br/>Conv(768, 160, k=1) + BN + ReLU\"]\n",
    "                b7x7dbl_2_6c[\"branch7x7dbl_2:<br/>Conv(160, 160, k=7x1, p=3,0) + BN + ReLU\"]\n",
    "                b7x7dbl_3_6c[\"branch7x7dbl_3:<br/>Conv(160, 160, k=1x7, p=0,3) + BN + ReLU\"]\n",
    "                b7x7dbl_4_6c[\"branch7x7dbl_4:<br/>Conv(160, 160, k=7x1, p=3,0) + BN + ReLU\"]\n",
    "                b7x7dbl_5_6c[\"branch7x7dbl_5:<br/>Conv(160, 192, k=1x7, p=0,3) + BN + ReLU\"]\n",
    "                b7x7dbl_1_6c --> b7x7dbl_2_6c --> b7x7dbl_3_6c --> b7x7dbl_4_6c --> b7x7dbl_5_6c\n",
    "            end\n",
    "            subgraph BranchPool_6c\n",
    "                mpool_6c(\"AvgPool2d(k=3, s=1, p=1)\")\n",
    "                bp_6c[\"branch_pool:<br/>Conv(768, 192, k=1) + BN + ReLU\"]\n",
    "                mpool_6c --> bp_6c\n",
    "            end\n",
    "            in_6c --\"Input\"--> Branch1x1_6c\n",
    "            in_6c --\"Input\"--> Branch7x7_6c\n",
    "            in_6c --\"Input\"--> Branch7x7dbl_6c\n",
    "            in_6c --\"Input\"--> BranchPool_6c\n",
    "            bc1x1_6c & b7x7_3_6c & b7x7dbl_5_6c & bp_6c --> Concat_6c((Concatenate:<br/>768 channels))\n",
    "        end\n",
    "\n",
    "        subgraph Mixed_6d_Block [\"Mixed_6d (InceptionC) Out: 768\"]\n",
    "            direction LR\n",
    "            in_6d(\"Input(768)\")\n",
    "            subgraph Branch1x1_6d\n",
    "                bc1x1_6d[\"branch1x1:<br/>Conv(768, 192, k=1) + BN + ReLU\"]\n",
    "            end\n",
    "            subgraph Branch7x7_6d\n",
    "                b7x7_1_6d[\"branch7x7_1:<br/>Conv(768, 160, k=1) + BN + ReLU\"]\n",
    "                b7x7_2_6d[\"branch7x7_2:<br/>Conv(160, 160, k=1x7, p=0,3) + BN + ReLU\"]\n",
    "                b7x7_3_6d[\"branch7x7_3:<br/>Conv(160, 192, k=7x1, p=3,0) + BN + ReLU\"]\n",
    "                b7x7_1_6d --> b7x7_2_6d --> b7x7_3_6d\n",
    "            end\n",
    "            subgraph Branch7x7dbl_6d\n",
    "                b7x7dbl_1_6d[\"branch7x7dbl_1:<br/>Conv(768, 160, k=1) + BN + ReLU\"]\n",
    "                b7x7dbl_2_6d[\"branch7x7dbl_2:<br/>Conv(160, 160, k=7x1, p=3,0) + BN + ReLU\"]\n",
    "                b7x7dbl_3_6d[\"branch7x7dbl_3:<br/>Conv(160, 160, k=1x7, p=0,3) + BN + ReLU\"]\n",
    "                b7x7dbl_4_6d[\"branch7x7dbl_4:<br/>Conv(160, 160, k=7x1, p=3,0) + BN + ReLU\"]\n",
    "                b7x7dbl_5_6d[\"branch7x7dbl_5:<br/>Conv(160, 192, k=1x7, p=0,3) + BN + ReLU\"]\n",
    "                b7x7dbl_1_6d --> b7x7dbl_2_6d --> b7x7dbl_3_6d --> b7x7dbl_4_6d --> b7x7dbl_5_6d\n",
    "            end\n",
    "            subgraph BranchPool_6d\n",
    "                mpool_6d(\"AvgPool2d(k=3, s=1, p=1)\")\n",
    "                bp_6d[\"branch_pool:<br/>Conv(768, 192, k=1) + BN + ReLU\"]\n",
    "                mpool_6d --> bp_6d\n",
    "            end\n",
    "            in_6d --\"Input\"--> Branch1x1_6d\n",
    "            in_6d --\"Input\"--> Branch7x7_6d\n",
    "            in_6d --\"Input\"--> Branch7x7dbl_6d\n",
    "            in_6d --\"Input\"--> BranchPool_6d\n",
    "            bc1x1_6d & b7x7_3_6d & b7x7dbl_5_6d & bp_6d --> Concat_6d((Concatenate:<br/>768 channels))\n",
    "        end\n",
    "\n",
    "        subgraph Mixed_6e_Block [\"Mixed_6e (InceptionC) Out: 768\"]\n",
    "            direction LR\n",
    "            in_6e(\"Input(768)\")\n",
    "            subgraph Branch1x1_6e\n",
    "                bc1x1_6e[\"branch1x1:<br/>Conv(768, 192, k=1) + BN + ReLU\"]\n",
    "            end\n",
    "            subgraph Branch7x7_6e\n",
    "                b7x7_1_6e[\"branch7x7_1:<br/>Conv(768, 192, k=1) + BN + ReLU\"]\n",
    "                b7x7_2_6e[\"branch7x7_2:<br/>Conv(192, 192, k=1x7, p=0,3) + BN + ReLU\"]\n",
    "                b7x7_3_6e[\"branch7x7_3:<br/>Conv(192, 192, k=7x1, p=3,0) + BN + ReLU\"]\n",
    "                b7x7_1_6e --> b7x7_2_6e --> b7x7_3_6e\n",
    "            end\n",
    "            subgraph Branch7x7dbl_6e\n",
    "                b7x7dbl_1_6e[\"branch7x7dbl_1:<br/>Conv(768, 192, k=1) + BN + ReLU\"]\n",
    "                b7x7dbl_2_6e[\"branch7x7dbl_2:<br/>Conv(192, 192, k=7x1, p=3,0) + BN + ReLU\"]\n",
    "                b7x7dbl_3_6e[\"branch7x7dbl_3:<br/>Conv(192, 192, k=1x7, p=0,3) + BN + ReLU\"]\n",
    "                b7x7dbl_4_6e[\"branch7x7dbl_4:<br/>Conv(192, 192, k=7x1, p=3,0) + BN + ReLU\"]\n",
    "                b7x7dbl_5_6e[\"branch7x7dbl_5:<br/>Conv(192, 192, k=1x7, p=0,3) + BN + ReLU\"]\n",
    "                b7x7dbl_1_6e --> b7x7dbl_2_6e --> b7x7dbl_3_6e --> b7x7dbl_4_6e --> b7x7dbl_5_6e\n",
    "            end\n",
    "            subgraph BranchPool_6e\n",
    "                mpool_6e(\"AvgPool2d(k=3, s=1, p=1)\")\n",
    "                bp_6e[\"branch_pool:<br/>Conv(768, 192, k=1) + BN + ReLU\"]\n",
    "                mpool_6e --> bp_6e\n",
    "            end\n",
    "            in_6e --\"Input\"--> Branch1x1_6e\n",
    "            in_6e --\"Input\"--> Branch7x7_6e\n",
    "            in_6e --\"Input\"--> Branch7x7dbl_6e\n",
    "            in_6e --\"Input\"--> BranchPool_6e\n",
    "            bc1x1_6e & b7x7_3_6e & b7x7dbl_5_6e & bp_6e --> Concat_6e((Concatenate:<br/>768 channels))\n",
    "        end\n",
    "\n",
    "        subgraph AuxLogits_Block [AuxLogits Classifier]\n",
    "            %%direction TD\n",
    "            in_aux(\"Input(768 from Mixed_6e)\")\n",
    "            aux_avgpool_5x5[\"Aux AvgPool:<br/>AdaptiveAvgPool2d(Out: (5,5))\"]\n",
    "            aux_conv0[\"conv0:<br/>Conv(768, 128, k=1) + BN + ReLU\"]\n",
    "            aux_conv1[\"conv1:<br/>Conv(128, 768, k=5) + BN + ReLU\"]\n",
    "            aux_avgpool_1x1[\"Aux AvgPool:<br/>AdaptiveAvgPool2d(Out: (1,1))\"]\n",
    "            aux_flatten[\"Flatten\"]\n",
    "            aux_fc[\"fc:<br/>Linear(768, 1000)\"]\n",
    "            in_aux --> aux_avgpool_5x5 --> aux_conv0 --> aux_conv1 --> aux_avgpool_1x1 --> aux_flatten --> aux_fc\n",
    "        end\n",
    "\n",
    "        subgraph Mixed_7a_Block [\"Mixed_7a (InceptionD) Out: 1280\"]\n",
    "            direction LR\n",
    "            in_7a(\"Input(768)\")\n",
    "\n",
    "            subgraph Branch3x3_7a [Branch 3x3]\n",
    "                b3x3_1_7a[\"branch3x3_1:<br/>Conv(768, 192, k=1) + BN + ReLU\"]\n",
    "                b3x3_2_7a[\"branch3x3_2:<br/>Conv(192, 320, k=3, s=2) + BN + ReLU\"]\n",
    "                b3x3_1_7a --> b3x3_2_7a\n",
    "            end\n",
    "\n",
    "            subgraph Branch7x7x3_7a [Branch 7x7x3]\n",
    "                b7x7x3_1_7a[\"branch7x7x3_1:<br/>Conv(768, 192, k=1) + BN + ReLU\"]\n",
    "                b7x7x3_2_7a[\"branch7x7x3_2:<br/>Conv(192, 192, k=1x7, p=0,3) + BN + ReLU\"]\n",
    "                b7x7x3_3_7a[\"branch7x7x3_3:<br/>Conv(192, 192, k=7x1, p=3,0) + BN + ReLU\"]\n",
    "                b7x7x3_4_7a[\"branch7x7x3_4:<br/>Conv(192, 192, k=3, s=2) + BN + ReLU\"]\n",
    "                b7x7x3_1_7a --> b7x7x3_2_7a --> b7x7x3_3_7a --> b7x7x3_4_7a\n",
    "            end\n",
    "\n",
    "            subgraph MaxPool_7a [Max Pool]\n",
    "                mpool_7a(\"MaxPool2d(k=3, s=2, p=0)\")\n",
    "            end\n",
    "\n",
    "            in_7a --\"Input\"--> Branch3x3_7a\n",
    "            in_7a --\"Input\"--> Branch7x7x3_7a\n",
    "            in_7a --\"Input\"--> MaxPool_7a\n",
    "\n",
    "            b3x3_2_7a & b7x7x3_4_7a & mpool_7a --> Concat_7a((Concatenate:<br/>1280 channels))\n",
    "        end\n",
    "\n",
    "        subgraph Mixed_7b_Block [\"Mixed_7b (InceptionE) Out: 2048\"]\n",
    "            direction LR\n",
    "            in_7b(\"Input(1280)\")\n",
    "\n",
    "            subgraph Branch1x1_7b [Branch 1x1]\n",
    "                bc1x1_7b[\"branch1x1:<br/>Conv(1280, 320, k=1) + BN + ReLU\"]\n",
    "            end\n",
    "\n",
    "            subgraph Branch3x3_7b [Branch 3x3]\n",
    "                b3x3_1_7b[\"branch3x3_1:<br/>Conv(1280, 384, k=1) + BN + ReLU\"]\n",
    "                split_3x3_7b{{\"Split\"}}\n",
    "                b3x3_2a_7b[\"branch3x3_2a:<br/>Conv(384, 384, k=1x3, p=0,1) + BN + ReLU\"]\n",
    "                b3x3_2b_7b[\"branch3x3_2b:<br/>Conv(384, 384, k=3x1, p=1,0) + BN + ReLU\"]\n",
    "                b3x3_1_7b --> split_3x3_7b\n",
    "                split_3x3_7b --\"H-Split\"--> b3x3_2a_7b\n",
    "                split_3x3_7b --\"V-Split\"--> b3x3_2b_7b\n",
    "                b3x3_2a_7b & b3x3_2b_7b --> Concat_3x3_7b((Concat: 768))\n",
    "            end\n",
    "\n",
    "            subgraph Branch3x3dbl_7b [Branch 3x3 Dbl]\n",
    "                b3x3dbl_1_7b[\"branch3x3dbl_1:<br/>Conv(1280, 448, k=1) + BN + ReLU\"]\n",
    "                b3x3dbl_2_7b[\"branch3x3dbl_2:<br/>Conv(448, 384, k=3, p=1) + BN + ReLU\"]\n",
    "                split_3x3dbl_7b{{\"Split\"}}\n",
    "                b3x3dbl_3a_7b[\"branch3x3dbl_3a:<br/>Conv(384, 384, k=1x3, p=0,1) + BN + ReLU\"]\n",
    "                b3x3dbl_3b_7b[\"branch3x3dbl_3b:<br/>Conv(384, 384, k=3x1, p=1,0) + BN + ReLU\"]\n",
    "                b3x3dbl_1_7b --> b3x3dbl_2_7b --> split_3x3dbl_7b\n",
    "                split_3x3dbl_7b --\"H-Split\"--> b3x3dbl_3a_7b\n",
    "                split_3x3dbl_7b --\"V-Split\"--> b3x3dbl_3b_7b\n",
    "                b3x3dbl_3a_7b & b3x3dbl_3b_7b --> Concat_3x3dbl_7b((Concat: 768))\n",
    "            end\n",
    "\n",
    "            subgraph BranchPool_7b [Branch Pool]\n",
    "                mpool_7b(\"AvgPool2d(k=3, s=1, p=1)\")\n",
    "                bp_7b[\"branch_pool:<br/>Conv(1280, 192, k=1) + BN + ReLU\"]\n",
    "                mpool_7b --> bp_7b\n",
    "            end\n",
    "\n",
    "            in_7b --\"Input\"--> Branch1x1_7b\n",
    "            in_7b --\"Input\"--> Branch3x3_7b\n",
    "            in_7b --\"Input\"--> Branch3x3dbl_7b\n",
    "            in_7b --\"Input\"--> BranchPool_7b\n",
    "\n",
    "            bc1x1_7b & Concat_3x3_7b & Concat_3x3dbl_7b & bp_7b --> Concat_7b((Concatenate:<br/>2048 channels))\n",
    "        end\n",
    "\n",
    "        subgraph Mixed_7c_Block [\"Mixed_7c (InceptionE) Out: 2048\"]\n",
    "            direction LR\n",
    "            in_7c(\"Input(2048)\")\n",
    "            subgraph Branch1x1_7c\n",
    "                bc1x1_7c[\"branch1x1:<br/>Conv(2048, 320, k=1) + BN + ReLU\"]\n",
    "            end\n",
    "            subgraph Branch3x3_7c\n",
    "                b3x3_1_7c[\"branch3x3_1:<br/>Conv(2048, 384, k=1) + BN + ReLU\"]\n",
    "                split_3x3_7c{{\"Split\"}}\n",
    "                b3x3_2a_7c[\"branch3x3_2a:<br/>Conv(384, 384, k=1x3, p=0,1) + BN + ReLU\"]\n",
    "                b3x3_2b_7c[\"branch3x3_2b:<br/>Conv(384, 384, k=3x1, p=1,0) + BN + ReLU\"]\n",
    "                b3x3_1_7c --> split_3x3_7c\n",
    "                split_3x3_7c --\"H-Split\"--> b3x3_2a_7c\n",
    "                split_3x3_7c --\"V-Split\"--> b3x3_2b_7c\n",
    "                b3x3_2a_7c & b3x3_2b_7c --> Concat_3x3_7c((Concat: 768))\n",
    "            end\n",
    "            subgraph Branch3x3dbl_7c\n",
    "                b3x3dbl_1_7c[\"branch3x3dbl_1:<br/>Conv(2048, 448, k=1) + BN + ReLU\"]\n",
    "                b3x3dbl_2_7c[\"branch3x3dbl_2:<br/>Conv(448, 384, k=3, p=1) + BN + ReLU\"]\n",
    "                split_3x3dbl_7c{{\"Split\"}}\n",
    "                b3x3dbl_3a_7c[\"branch3x3dbl_3a:<br/>Conv(384, 384, k=1x3, p=0,1) + BN + ReLU\"]\n",
    "                b3x3dbl_3b_7c[\"branch3x3dbl_3b:<br/>Conv(384, 384, k=3x1, p=1,0) + BN + ReLU\"]\n",
    "                b3x3dbl_1_7c --> b3x3dbl_2_7c --> split_3x3dbl_7c\n",
    "                split_3x3dbl_7c --\"H-Split\"--> b3x3dbl_3a_7c\n",
    "                split_3x3dbl_7c --\"V-Split\"--> b3x3dbl_3b_7c\n",
    "                b3x3dbl_3a_7c & b3x3dbl_3b_7c --> Concat_3x3dbl_7c((Concat: 768))\n",
    "            end\n",
    "            subgraph BranchPool_7c\n",
    "                mpool_7c(\"AvgPool2d(k=3, s=1, p=1)\")\n",
    "                bp_7c[\"branch_pool:<br/>Conv(2048, 192, k=1) + BN + ReLU\"]\n",
    "                mpool_7c --> bp_7c\n",
    "            end\n",
    "            in_7c --\"Input\"--> Branch1x1_7c\n",
    "            in_7c --\"Input\"--> Branch3x3_7c\n",
    "            in_7c --\"Input\"--> Branch3x3dbl_7c\n",
    "            in_7c --\"Input\"--> BranchPool_7c\n",
    "            bc1x1_7c & Concat_3x3_7c & Concat_3x3dbl_7c & bp_7c --> Concat_7c((Concatenate:<br/>2048 channels))\n",
    "        end\n",
    "\n",
    "        subgraph Final_Layers [Classifier Head]\n",
    "            avgpool[\"avgpool:<br/>AdaptiveAvgPool2d(Out: (1,1))\"]\n",
    "            dropout[\"dropout:<br/>Dropout(p=0.5)\"]\n",
    "            fc[\"fc:<br/>Linear(2048, 1000)\"]\n",
    "            avgpool --> dropout --> fc\n",
    "        end\n",
    "\n",
    "        Input --> Stem_Block\n",
    "        Stem_Block --> Mixed_5b_Block\n",
    "        Mixed_5b_Block --> Mixed_5c_Block\n",
    "        Mixed_5c_Block --> Mixed_5d_Block\n",
    "        Mixed_5d_Block --> Mixed_6a_Block\n",
    "        Mixed_6a_Block --> Mixed_6b_Block\n",
    "        Mixed_6b_Block --> Mixed_6c_Block\n",
    "        Mixed_6c_Block --> Mixed_6d_Block\n",
    "        Mixed_6d_Block --> Mixed_6e_Block\n",
    "\n",
    "        Mixed_6e_Block --\"Main path\"--> Mixed_7a_Block\n",
    "        Mixed_6e_Block --\"Auxiliary path\"--> AuxLogits_Block\n",
    "\n",
    "        Mixed_7a_Block --> Mixed_7b_Block\n",
    "        Mixed_7b_Block --> Mixed_7c_Block\n",
    "        Mixed_7c_Block --> Final_Layers\n",
    "        Final_Layers --> Output\n",
    "    end\n",
    "```"
   ]
  },
  {
   "cell_type": "markdown",
   "id": "41b96029",
   "metadata": {},
   "source": [
    "## Redimensionamento do Dataset para 299x299 Pixels\n",
    "\n",
    "Nesta etapa, o dataset será redimensionado para que as imagens possuam as dimensões de 299x299 pixels, tornando-as compatíveis com a entrada esperada pelo modelo Inception V3.\n",
    "\n",
    "Dada a alta demanda computacional deste modelo e a limitação de 4 GB de VRAM do sistema, será necessário reduzir o tamanho do *batch*."
   ]
  },
  {
   "cell_type": "code",
   "execution_count": null,
   "id": "9d93775b",
   "metadata": {},
   "outputs": [],
   "source": [
    "dataset = CIFAR10Dataset(root=root, resize=(299, 299))\n",
    "train_dataloader = dataset.get_dataloader(dataset_type=\"train\", num_workers=num_workers, batch_size=50)\n",
    "val_dataloader = dataset.get_dataloader(dataset_type=\"val\", num_workers=num_workers, batch_size=50)\n",
    "test_dataloader = dataset.get_dataloader(dataset_type=\"val\", num_workers=num_workers, batch_size=50)"
   ]
  },
  {
   "cell_type": "code",
   "execution_count": null,
   "id": "08401498",
   "metadata": {},
   "outputs": [],
   "source": [
    "model_inception = inception_v3(weights=Inception_V3_Weights.DEFAULT, progress=True)\n",
    "model_inception.aux_logits = False\n",
    "\n",
    "for param in model_inception.parameters():\n",
    "    param.requires_grad = False\n",
    "    \n",
    "in_features_inception = model_inception.fc.in_features\n",
    "\n",
    "custom_classifier = nn.Sequential(\n",
    "    nn.Flatten(),\n",
    "    nn.Linear(in_features_inception, 128),\n",
    "    nn.LeakyReLU(),\n",
    "    nn.Linear(128, 64),\n",
    "    nn.LeakyReLU(),\n",
    "    nn.Linear(64, 10)\n",
    ")\n",
    "\n",
    "# Pylance will complain about the data type, fc is Linear\n",
    "model_inception.fc = custom_classifier  # type: ignore\n",
    "\n",
    "light_inception_model = LightModel(model_inception)"
   ]
  },
  {
   "cell_type": "code",
   "execution_count": null,
   "id": "a64c9a75",
   "metadata": {},
   "outputs": [],
   "source": [
    "early_stopping = EarlyStopping(\n",
    "    monitor=\"val_loss\",\n",
    "    patience=5,\n",
    "    mode=\"min\",\n",
    "    min_delta=0.001,\n",
    ")\n",
    "trainer = Trainer(\n",
    "    callbacks=[early_stopping],\n",
    "    max_epochs=50,\n",
    "    accelerator=device_type,\n",
    "    devices=1,\n",
    "    # accumulate_grad_batches=2, # If were to reduce more batch size\n",
    ")\n",
    "print(\"\\n--- Training Inception with custom classifier ---\\n\")\n",
    "trainer.fit(\n",
    "    model=light_inception_model,\n",
    "    train_dataloaders=train_dataloader,\n",
    "    val_dataloaders=val_dataloader,\n",
    ")"
   ]
  },
  {
   "cell_type": "code",
   "execution_count": null,
   "id": "71e7f87c",
   "metadata": {},
   "outputs": [],
   "source": [
    "print(\"\\n--- Testing Inception with custom classifier ---\\n\")\n",
    "trainer.test(model=light_inception_model, dataloaders=test_dataloader)"
   ]
  }
 ],
 "metadata": {
  "kernelspec": {
   "display_name": ".venv",
   "language": "python",
   "name": "python3"
  },
  "language_info": {
   "codemirror_mode": {
    "name": "ipython",
    "version": 3
   },
   "file_extension": ".py",
   "mimetype": "text/x-python",
   "name": "python",
   "nbconvert_exporter": "python",
   "pygments_lexer": "ipython3",
   "version": "3.13.2"
  }
 },
 "nbformat": 4,
 "nbformat_minor": 5
}
